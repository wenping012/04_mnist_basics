{
 "cells": [
  {
   "metadata": {},
   "cell_type": "markdown",
   "source": [
    "# This is a sample Jupyter Notebook\n",
    "\n",
    "Below is an example of a code cell. \n",
    "Put your cursor into the cell and press Shift+Enter to execute it and select the next one, or click 'Run Cell' button.\n",
    "\n",
    "Press Double Shift to search everywhere for classes, files, tool windows, actions, and settings.\n",
    "\n",
    "To learn more about Jupyter Notebooks in PyCharm, see [help](https://www.jetbrains.com/help/pycharm/ipython-notebook-support.html).\n",
    "For an overview of PyCharm, go to Help -> Learn IDE features or refer to [our documentation](https://www.jetbrains.com/help/pycharm/getting-started.html)."
   ],
   "id": "8a77807f92f26ee"
  },
  {
   "metadata": {
    "ExecuteTime": {
     "end_time": "2025-06-28T02:05:09.145810Z",
     "start_time": "2025-06-28T02:05:09.142583Z"
    }
   },
   "cell_type": "code",
   "source": [
    "import pandas as pd\n",
    "import torch\n",
    "\n",
    "print(\"Hello World!\")\n"
   ],
   "id": "fbc121e30a2defb3",
   "outputs": [
    {
     "name": "stdout",
     "output_type": "stream",
     "text": [
      "Hello World!\n"
     ]
    }
   ],
   "execution_count": 3
  },
  {
   "metadata": {
    "ExecuteTime": {
     "end_time": "2025-06-28T02:05:09.173702Z",
     "start_time": "2025-06-28T02:05:09.171821Z"
    }
   },
   "cell_type": "code",
   "source": [
    "#hide\n",
    "import fastbook\n",
    "fastbook.setup_book()"
   ],
   "id": "d174095b30e9186d",
   "outputs": [],
   "execution_count": 4
  },
  {
   "metadata": {
    "ExecuteTime": {
     "end_time": "2025-06-28T02:05:09.199709Z",
     "start_time": "2025-06-28T02:05:09.197797Z"
    }
   },
   "cell_type": "code",
   "source": [
    "#hide\n",
    "from fastai.vision.all import *\n",
    "from fastbook import *\n",
    "\n",
    "matplotlib.rc('image', cmap='Greys')"
   ],
   "id": "1e343c48370a4854",
   "outputs": [],
   "execution_count": 5
  },
  {
   "metadata": {
    "ExecuteTime": {
     "end_time": "2025-06-28T02:05:09.227715Z",
     "start_time": "2025-06-28T02:05:09.226006Z"
    }
   },
   "cell_type": "code",
   "source": "path = untar_data(URLs.MNIST_SAMPLE)   #download a sample of MNIST that contains images of just these digits",
   "id": "ef3f8f343e6cea14",
   "outputs": [],
   "execution_count": 6
  },
  {
   "metadata": {
    "ExecuteTime": {
     "end_time": "2025-06-28T02:05:09.249376Z",
     "start_time": "2025-06-28T02:05:09.247179Z"
    }
   },
   "cell_type": "code",
   "source": [
    "# hide\n",
    "Path.BASE_PATH = path #.表示当前路径，这里把path赋值给当前路径"
   ],
   "id": "2f31458b06a6e914",
   "outputs": [],
   "execution_count": 7
  },
  {
   "metadata": {
    "ExecuteTime": {
     "end_time": "2025-06-28T02:05:09.270734Z",
     "start_time": "2025-06-28T02:05:09.266665Z"
    }
   },
   "cell_type": "code",
   "source": "path.ls()    # 列出文件夹内容，返回L 类 的对象",
   "id": "9fc2517cf2020ceb",
   "outputs": [
    {
     "data": {
      "text/plain": [
       "(#3) [Path('valid'),Path('labels.csv'),Path('train')]"
      ]
     },
     "execution_count": 8,
     "metadata": {},
     "output_type": "execute_result"
    }
   ],
   "execution_count": 8
  },
  {
   "metadata": {
    "ExecuteTime": {
     "end_time": "2025-06-28T02:05:09.301583Z",
     "start_time": "2025-06-28T02:05:09.299155Z"
    }
   },
   "cell_type": "code",
   "source": "(path/'train').ls()",
   "id": "405623d90615a44c",
   "outputs": [
    {
     "data": {
      "text/plain": [
       "(#2) [Path('train/7'),Path('train/3')]"
      ]
     },
     "execution_count": 9,
     "metadata": {},
     "output_type": "execute_result"
    }
   ],
   "execution_count": 9
  },
  {
   "metadata": {
    "ExecuteTime": {
     "end_time": "2025-06-28T02:05:09.472877Z",
     "start_time": "2025-06-28T02:05:09.334084Z"
    }
   },
   "cell_type": "code",
   "source": [
    "threes = (path/'train'/'3').ls().sorted()\n",
    "sevens = (path/'train'/'7').ls().sorted()\n",
    "threes"
   ],
   "id": "63cd5961ac8bc546",
   "outputs": [
    {
     "data": {
      "text/plain": [
       "(#6131) [Path('train/3/10.png'),Path('train/3/10000.png'),Path('train/3/10011.png'),Path('train/3/10031.png'),Path('train/3/10034.png'),Path('train/3/10042.png'),Path('train/3/10052.png'),Path('train/3/1007.png'),Path('train/3/10074.png'),Path('train/3/10091.png'),Path('train/3/10093.png'),Path('train/3/10097.png'),Path('train/3/10099.png'),Path('train/3/10116.png'),Path('train/3/10125.png'),Path('train/3/10137.png'),Path('train/3/10141.png'),Path('train/3/10144.png'),Path('train/3/10155.png'),Path('train/3/10161.png')...]"
      ]
     },
     "execution_count": 10,
     "metadata": {},
     "output_type": "execute_result"
    }
   ],
   "execution_count": 10
  },
  {
   "metadata": {
    "ExecuteTime": {
     "end_time": "2025-06-28T02:05:09.709688Z",
     "start_time": "2025-06-28T02:05:09.690868Z"
    }
   },
   "cell_type": "code",
   "source": [
    "im3_path = threes[1]\n",
    "im3 = Image.open(im3_path)  # Image 类 来自 Python Imaging Library(PIL)\n",
    "im3"
   ],
   "id": "d48fbee40fb1579e",
   "outputs": [
    {
     "data": {
      "text/plain": [
       "<PIL.PngImagePlugin.PngImageFile image mode=L size=28x28>"
      ],
      "image/png": "[encoded data removed]",
      "image/jpeg": "[encoded data removed]"
     },
     "execution_count": 11,
     "metadata": {},
     "output_type": "execute_result"
    }
   ],
   "execution_count": 11
  },
  {
   "metadata": {
    "ExecuteTime": {
     "end_time": "2025-06-28T02:05:09.915946Z",
     "start_time": "2025-06-28T02:05:09.913049Z"
    }
   },
   "cell_type": "code",
   "source": "array(im3)[4:10,4:10]  # 观察组成图片的数字，我们把它转化成numpy array 或者 pytorch tensor。",
   "id": "97611e8104126bb1",
   "outputs": [
    {
     "data": {
      "text/plain": [
       "array([[  0,   0,   0,   0,   0,   0],\n",
       "       [  0,   0,   0,   0,   0,  29],\n",
       "       [  0,   0,   0,  48, 166, 224],\n",
       "       [  0,  93, 244, 249, 253, 187],\n",
       "       [  0, 107, 253, 253, 230,  48],\n",
       "       [  0,   3,  20,  20,  15,   0]], dtype=uint8)"
      ]
     },
     "execution_count": 12,
     "metadata": {},
     "output_type": "execute_result"
    }
   ],
   "execution_count": 12
  },
  {
   "metadata": {
    "ExecuteTime": {
     "end_time": "2025-06-28T02:05:10.154667Z",
     "start_time": "2025-06-28T02:05:10.150923Z"
    }
   },
   "cell_type": "code",
   "source": "tensor(im3)[4:10,4:10] #we requested the rows from index 4 (included) to 10 (not included) and the same for the columns",
   "id": "bd63b941048e6c45",
   "outputs": [
    {
     "data": {
      "text/plain": [
       "tensor([[  0,   0,   0,   0,   0,   0],\n",
       "        [  0,   0,   0,   0,   0,  29],\n",
       "        [  0,   0,   0,  48, 166, 224],\n",
       "        [  0,  93, 244, 249, 253, 187],\n",
       "        [  0, 107, 253, 253, 230,  48],\n",
       "        [  0,   3,  20,  20,  15,   0]], dtype=torch.uint8)"
      ]
     },
     "execution_count": 13,
     "metadata": {},
     "output_type": "execute_result"
    }
   ],
   "execution_count": 13
  },
  {
   "metadata": {
    "ExecuteTime": {
     "end_time": "2025-06-28T02:05:10.575763Z",
     "start_time": "2025-06-28T02:05:10.536427Z"
    }
   },
   "cell_type": "code",
   "source": [
    "# 切片选择 hide_output\n",
    "im3_t = tensor(im3)\n",
    "df = pd.DataFrame(im3_t[4:15,4:22])\n",
    "df.style.set_properties(**{'font-size':'6pt'}).background_gradient('Greys')\n",
    "\n"
   ],
   "id": "9e2125bced5e69da",
   "outputs": [
    {
     "data": {
      "text/plain": [
       "<pandas.io.formats.style.Styler at 0x13efdac60>"
      ],
      "text/html": [
       "<style type=\"text/css\">\n",
       "#T_ee889_row0_col0, #T_ee889_row0_col1, #T_ee889_row0_col2, #T_ee889_row0_col3, #T_ee889_row0_col4, #T_ee889_row0_col5, #T_ee889_row0_col6, #T_ee889_row0_col7, #T_ee889_row0_col8, #T_ee889_row0_col9, #T_ee889_row0_col10, #T_ee889_row0_col11, #T_ee889_row0_col12, #T_ee889_row0_col13, #T_ee889_row0_col14, #T_ee889_row0_col15, #T_ee889_row0_col16, #T_ee889_row0_col17, #T_ee889_row1_col0, #T_ee889_row1_col1, #T_ee889_row1_col2, #T_ee889_row1_col3, #T_ee889_row1_col4, #T_ee889_row1_col15, #T_ee889_row1_col16, #T_ee889_row1_col17, #T_ee889_row2_col0, #T_ee889_row2_col1, #T_ee889_row2_col2, #T_ee889_row2_col15, #T_ee889_row2_col16, #T_ee889_row2_col17, #T_ee889_row3_col0, #T_ee889_row3_col15, #T_ee889_row3_col16, #T_ee889_row3_col17, #T_ee889_row4_col0, #T_ee889_row4_col6, #T_ee889_row4_col7, #T_ee889_row4_col8, #T_ee889_row4_col9, #T_ee889_row4_col10, #T_ee889_row4_col15, #T_ee889_row4_col16, #T_ee889_row4_col17, #T_ee889_row5_col0, #T_ee889_row5_col5, #T_ee889_row5_col6, #T_ee889_row5_col7, #T_ee889_row5_col8, #T_ee889_row5_col9, #T_ee889_row5_col15, #T_ee889_row5_col16, #T_ee889_row5_col17, #T_ee889_row6_col0, #T_ee889_row6_col1, #T_ee889_row6_col2, #T_ee889_row6_col3, #T_ee889_row6_col4, #T_ee889_row6_col5, #T_ee889_row6_col6, #T_ee889_row6_col7, #T_ee889_row6_col8, #T_ee889_row6_col9, #T_ee889_row6_col14, #T_ee889_row6_col15, #T_ee889_row6_col16, #T_ee889_row6_col17, #T_ee889_row7_col0, #T_ee889_row7_col1, #T_ee889_row7_col2, #T_ee889_row7_col3, #T_ee889_row7_col4, #T_ee889_row7_col5, #T_ee889_row7_col6, #T_ee889_row7_col13, #T_ee889_row7_col14, #T_ee889_row7_col15, #T_ee889_row7_col16, #T_ee889_row7_col17, #T_ee889_row8_col0, #T_ee889_row8_col1, #T_ee889_row8_col2, #T_ee889_row8_col3, #T_ee889_row8_col4, #T_ee889_row8_col13, #T_ee889_row8_col14, #T_ee889_row8_col15, #T_ee889_row8_col16, #T_ee889_row8_col17, #T_ee889_row9_col0, #T_ee889_row9_col1, #T_ee889_row9_col2, #T_ee889_row9_col3, #T_ee889_row9_col4, #T_ee889_row9_col16, #T_ee889_row9_col17, #T_ee889_row10_col0, #T_ee889_row10_col1, #T_ee889_row10_col2, #T_ee889_row10_col3, #T_ee889_row10_col4, #T_ee889_row10_col5, #T_ee889_row10_col6, #T_ee889_row10_col17 {\n",
       "  font-size: 6pt;\n",
       "  background-color: #ffffff;\n",
       "  color: #000000;\n",
       "}\n",
       "#T_ee889_row1_col5 {\n",
       "  font-size: 6pt;\n",
       "  background-color: #efefef;\n",
       "  color: #000000;\n",
       "}\n",
       "#T_ee889_row1_col6, #T_ee889_row1_col13 {\n",
       "  font-size: 6pt;\n",
       "  background-color: #7c7c7c;\n",
       "  color: #f1f1f1;\n",
       "}\n",
       "#T_ee889_row1_col7 {\n",
       "  font-size: 6pt;\n",
       "  background-color: #4a4a4a;\n",
       "  color: #f1f1f1;\n",
       "}\n",
       "#T_ee889_row1_col8, #T_ee889_row1_col9, #T_ee889_row1_col10, #T_ee889_row2_col5, #T_ee889_row2_col6, #T_ee889_row2_col7, #T_ee889_row2_col11, #T_ee889_row2_col12, #T_ee889_row2_col13, #T_ee889_row3_col4, #T_ee889_row3_col12, #T_ee889_row3_col13, #T_ee889_row4_col1, #T_ee889_row4_col2, #T_ee889_row4_col3, #T_ee889_row4_col12, #T_ee889_row4_col13, #T_ee889_row5_col12, #T_ee889_row6_col11, #T_ee889_row9_col11, #T_ee889_row10_col11, #T_ee889_row10_col12, #T_ee889_row10_col13, #T_ee889_row10_col14, #T_ee889_row10_col15, #T_ee889_row10_col16 {\n",
       "  font-size: 6pt;\n",
       "  background-color: #000000;\n",
       "  color: #f1f1f1;\n",
       "}\n",
       "#T_ee889_row1_col11 {\n",
       "  font-size: 6pt;\n",
       "  background-color: #606060;\n",
       "  color: #f1f1f1;\n",
       "}\n",
       "#T_ee889_row1_col12 {\n",
       "  font-size: 6pt;\n",
       "  background-color: #4d4d4d;\n",
       "  color: #f1f1f1;\n",
       "}\n",
       "#T_ee889_row1_col14 {\n",
       "  font-size: 6pt;\n",
       "  background-color: #bbbbbb;\n",
       "  color: #000000;\n",
       "}\n",
       "#T_ee889_row2_col3 {\n",
       "  font-size: 6pt;\n",
       "  background-color: #e4e4e4;\n",
       "  color: #000000;\n",
       "}\n",
       "#T_ee889_row2_col4, #T_ee889_row8_col6 {\n",
       "  font-size: 6pt;\n",
       "  background-color: #6b6b6b;\n",
       "  color: #f1f1f1;\n",
       "}\n",
       "#T_ee889_row2_col8, #T_ee889_row2_col14, #T_ee889_row3_col14 {\n",
       "  font-size: 6pt;\n",
       "  background-color: #171717;\n",
       "  color: #f1f1f1;\n",
       "}\n",
       "#T_ee889_row2_col9, #T_ee889_row3_col11 {\n",
       "  font-size: 6pt;\n",
       "  background-color: #4b4b4b;\n",
       "  color: #f1f1f1;\n",
       "}\n",
       "#T_ee889_row2_col10, #T_ee889_row7_col10, #T_ee889_row8_col8, #T_ee889_row8_col10, #T_ee889_row9_col8, #T_ee889_row9_col10 {\n",
       "  font-size: 6pt;\n",
       "  background-color: #010101;\n",
       "  color: #f1f1f1;\n",
       "}\n",
       "#T_ee889_row3_col1 {\n",
       "  font-size: 6pt;\n",
       "  background-color: #272727;\n",
       "  color: #f1f1f1;\n",
       "}\n",
       "#T_ee889_row3_col2 {\n",
       "  font-size: 6pt;\n",
       "  background-color: #0a0a0a;\n",
       "  color: #f1f1f1;\n",
       "}\n",
       "#T_ee889_row3_col3 {\n",
       "  font-size: 6pt;\n",
       "  background-color: #050505;\n",
       "  color: #f1f1f1;\n",
       "}\n",
       "#T_ee889_row3_col5 {\n",
       "  font-size: 6pt;\n",
       "  background-color: #333333;\n",
       "  color: #f1f1f1;\n",
       "}\n",
       "#T_ee889_row3_col6 {\n",
       "  font-size: 6pt;\n",
       "  background-color: #e6e6e6;\n",
       "  color: #000000;\n",
       "}\n",
       "#T_ee889_row3_col7, #T_ee889_row3_col10 {\n",
       "  font-size: 6pt;\n",
       "  background-color: #fafafa;\n",
       "  color: #000000;\n",
       "}\n",
       "#T_ee889_row3_col8 {\n",
       "  font-size: 6pt;\n",
       "  background-color: #fbfbfb;\n",
       "  color: #000000;\n",
       "}\n",
       "#T_ee889_row3_col9 {\n",
       "  font-size: 6pt;\n",
       "  background-color: #fdfdfd;\n",
       "  color: #000000;\n",
       "}\n",
       "#T_ee889_row4_col4 {\n",
       "  font-size: 6pt;\n",
       "  background-color: #1b1b1b;\n",
       "  color: #f1f1f1;\n",
       "}\n",
       "#T_ee889_row4_col5 {\n",
       "  font-size: 6pt;\n",
       "  background-color: #e0e0e0;\n",
       "  color: #000000;\n",
       "}\n",
       "#T_ee889_row4_col11 {\n",
       "  font-size: 6pt;\n",
       "  background-color: #4e4e4e;\n",
       "  color: #f1f1f1;\n",
       "}\n",
       "#T_ee889_row4_col14 {\n",
       "  font-size: 6pt;\n",
       "  background-color: #767676;\n",
       "  color: #f1f1f1;\n",
       "}\n",
       "#T_ee889_row5_col1 {\n",
       "  font-size: 6pt;\n",
       "  background-color: #fcfcfc;\n",
       "  color: #000000;\n",
       "}\n",
       "#T_ee889_row5_col2, #T_ee889_row5_col3 {\n",
       "  font-size: 6pt;\n",
       "  background-color: #f6f6f6;\n",
       "  color: #000000;\n",
       "}\n",
       "#T_ee889_row5_col4, #T_ee889_row7_col7 {\n",
       "  font-size: 6pt;\n",
       "  background-color: #f8f8f8;\n",
       "  color: #000000;\n",
       "}\n",
       "#T_ee889_row5_col10, #T_ee889_row10_col7 {\n",
       "  font-size: 6pt;\n",
       "  background-color: #e8e8e8;\n",
       "  color: #000000;\n",
       "}\n",
       "#T_ee889_row5_col11 {\n",
       "  font-size: 6pt;\n",
       "  background-color: #222222;\n",
       "  color: #f1f1f1;\n",
       "}\n",
       "#T_ee889_row5_col13, #T_ee889_row6_col12 {\n",
       "  font-size: 6pt;\n",
       "  background-color: #090909;\n",
       "  color: #f1f1f1;\n",
       "}\n",
       "#T_ee889_row5_col14 {\n",
       "  font-size: 6pt;\n",
       "  background-color: #d0d0d0;\n",
       "  color: #000000;\n",
       "}\n",
       "#T_ee889_row6_col10, #T_ee889_row7_col11, #T_ee889_row9_col6 {\n",
       "  font-size: 6pt;\n",
       "  background-color: #060606;\n",
       "  color: #f1f1f1;\n",
       "}\n",
       "#T_ee889_row6_col13 {\n",
       "  font-size: 6pt;\n",
       "  background-color: #979797;\n",
       "  color: #f1f1f1;\n",
       "}\n",
       "#T_ee889_row7_col8 {\n",
       "  font-size: 6pt;\n",
       "  background-color: #b6b6b6;\n",
       "  color: #000000;\n",
       "}\n",
       "#T_ee889_row7_col9 {\n",
       "  font-size: 6pt;\n",
       "  background-color: #252525;\n",
       "  color: #f1f1f1;\n",
       "}\n",
       "#T_ee889_row7_col12 {\n",
       "  font-size: 6pt;\n",
       "  background-color: #999999;\n",
       "  color: #f1f1f1;\n",
       "}\n",
       "#T_ee889_row8_col5 {\n",
       "  font-size: 6pt;\n",
       "  background-color: #f9f9f9;\n",
       "  color: #000000;\n",
       "}\n",
       "#T_ee889_row8_col7 {\n",
       "  font-size: 6pt;\n",
       "  background-color: #101010;\n",
       "  color: #f1f1f1;\n",
       "}\n",
       "#T_ee889_row8_col9, #T_ee889_row9_col9 {\n",
       "  font-size: 6pt;\n",
       "  background-color: #020202;\n",
       "  color: #f1f1f1;\n",
       "}\n",
       "#T_ee889_row8_col11 {\n",
       "  font-size: 6pt;\n",
       "  background-color: #545454;\n",
       "  color: #f1f1f1;\n",
       "}\n",
       "#T_ee889_row8_col12 {\n",
       "  font-size: 6pt;\n",
       "  background-color: #f1f1f1;\n",
       "  color: #000000;\n",
       "}\n",
       "#T_ee889_row9_col5 {\n",
       "  font-size: 6pt;\n",
       "  background-color: #f7f7f7;\n",
       "  color: #000000;\n",
       "}\n",
       "#T_ee889_row9_col7 {\n",
       "  font-size: 6pt;\n",
       "  background-color: #030303;\n",
       "  color: #f1f1f1;\n",
       "}\n",
       "#T_ee889_row9_col12 {\n",
       "  font-size: 6pt;\n",
       "  background-color: #181818;\n",
       "  color: #f1f1f1;\n",
       "}\n",
       "#T_ee889_row9_col13 {\n",
       "  font-size: 6pt;\n",
       "  background-color: #303030;\n",
       "  color: #f1f1f1;\n",
       "}\n",
       "#T_ee889_row9_col14 {\n",
       "  font-size: 6pt;\n",
       "  background-color: #a9a9a9;\n",
       "  color: #f1f1f1;\n",
       "}\n",
       "#T_ee889_row9_col15 {\n",
       "  font-size: 6pt;\n",
       "  background-color: #fefefe;\n",
       "  color: #000000;\n",
       "}\n",
       "#T_ee889_row10_col8, #T_ee889_row10_col9 {\n",
       "  font-size: 6pt;\n",
       "  background-color: #bababa;\n",
       "  color: #000000;\n",
       "}\n",
       "#T_ee889_row10_col10 {\n",
       "  font-size: 6pt;\n",
       "  background-color: #393939;\n",
       "  color: #f1f1f1;\n",
       "}\n",
       "</style>\n",
       "<table id=\"T_ee889\">\n",
       "  <thead>\n",
       "    <tr>\n",
       "      <th class=\"blank level0\" >&nbsp;</th>\n",
       "      <th id=\"T_ee889_level0_col0\" class=\"col_heading level0 col0\" >0</th>\n",
       "      <th id=\"T_ee889_level0_col1\" class=\"col_heading level0 col1\" >1</th>\n",
       "      <th id=\"T_ee889_level0_col2\" class=\"col_heading level0 col2\" >2</th>\n",
       "      <th id=\"T_ee889_level0_col3\" class=\"col_heading level0 col3\" >3</th>\n",
       "      <th id=\"T_ee889_level0_col4\" class=\"col_heading level0 col4\" >4</th>\n",
       "      <th id=\"T_ee889_level0_col5\" class=\"col_heading level0 col5\" >5</th>\n",
       "      <th id=\"T_ee889_level0_col6\" class=\"col_heading level0 col6\" >6</th>\n",
       "      <th id=\"T_ee889_level0_col7\" class=\"col_heading level0 col7\" >7</th>\n",
       "      <th id=\"T_ee889_level0_col8\" class=\"col_heading level0 col8\" >8</th>\n",
       "      <th id=\"T_ee889_level0_col9\" class=\"col_heading level0 col9\" >9</th>\n",
       "      <th id=\"T_ee889_level0_col10\" class=\"col_heading level0 col10\" >10</th>\n",
       "      <th id=\"T_ee889_level0_col11\" class=\"col_heading level0 col11\" >11</th>\n",
       "      <th id=\"T_ee889_level0_col12\" class=\"col_heading level0 col12\" >12</th>\n",
       "      <th id=\"T_ee889_level0_col13\" class=\"col_heading level0 col13\" >13</th>\n",
       "      <th id=\"T_ee889_level0_col14\" class=\"col_heading level0 col14\" >14</th>\n",
       "      <th id=\"T_ee889_level0_col15\" class=\"col_heading level0 col15\" >15</th>\n",
       "      <th id=\"T_ee889_level0_col16\" class=\"col_heading level0 col16\" >16</th>\n",
       "      <th id=\"T_ee889_level0_col17\" class=\"col_heading level0 col17\" >17</th>\n",
       "    </tr>\n",
       "  </thead>\n",
       "  <tbody>\n",
       "    <tr>\n",
       "      <th id=\"T_ee889_level0_row0\" class=\"row_heading level0 row0\" >0</th>\n",
       "      <td id=\"T_ee889_row0_col0\" class=\"data row0 col0\" >0</td>\n",
       "      <td id=\"T_ee889_row0_col1\" class=\"data row0 col1\" >0</td>\n",
       "      <td id=\"T_ee889_row0_col2\" class=\"data row0 col2\" >0</td>\n",
       "      <td id=\"T_ee889_row0_col3\" class=\"data row0 col3\" >0</td>\n",
       "      <td id=\"T_ee889_row0_col4\" class=\"data row0 col4\" >0</td>\n",
       "      <td id=\"T_ee889_row0_col5\" class=\"data row0 col5\" >0</td>\n",
       "      <td id=\"T_ee889_row0_col6\" class=\"data row0 col6\" >0</td>\n",
       "      <td id=\"T_ee889_row0_col7\" class=\"data row0 col7\" >0</td>\n",
       "      <td id=\"T_ee889_row0_col8\" class=\"data row0 col8\" >0</td>\n",
       "      <td id=\"T_ee889_row0_col9\" class=\"data row0 col9\" >0</td>\n",
       "      <td id=\"T_ee889_row0_col10\" class=\"data row0 col10\" >0</td>\n",
       "      <td id=\"T_ee889_row0_col11\" class=\"data row0 col11\" >0</td>\n",
       "      <td id=\"T_ee889_row0_col12\" class=\"data row0 col12\" >0</td>\n",
       "      <td id=\"T_ee889_row0_col13\" class=\"data row0 col13\" >0</td>\n",
       "      <td id=\"T_ee889_row0_col14\" class=\"data row0 col14\" >0</td>\n",
       "      <td id=\"T_ee889_row0_col15\" class=\"data row0 col15\" >0</td>\n",
       "      <td id=\"T_ee889_row0_col16\" class=\"data row0 col16\" >0</td>\n",
       "      <td id=\"T_ee889_row0_col17\" class=\"data row0 col17\" >0</td>\n",
       "    </tr>\n",
       "    <tr>\n",
       "      <th id=\"T_ee889_level0_row1\" class=\"row_heading level0 row1\" >1</th>\n",
       "      <td id=\"T_ee889_row1_col0\" class=\"data row1 col0\" >0</td>\n",
       "      <td id=\"T_ee889_row1_col1\" class=\"data row1 col1\" >0</td>\n",
       "      <td id=\"T_ee889_row1_col2\" class=\"data row1 col2\" >0</td>\n",
       "      <td id=\"T_ee889_row1_col3\" class=\"data row1 col3\" >0</td>\n",
       "      <td id=\"T_ee889_row1_col4\" class=\"data row1 col4\" >0</td>\n",
       "      <td id=\"T_ee889_row1_col5\" class=\"data row1 col5\" >29</td>\n",
       "      <td id=\"T_ee889_row1_col6\" class=\"data row1 col6\" >150</td>\n",
       "      <td id=\"T_ee889_row1_col7\" class=\"data row1 col7\" >195</td>\n",
       "      <td id=\"T_ee889_row1_col8\" class=\"data row1 col8\" >254</td>\n",
       "      <td id=\"T_ee889_row1_col9\" class=\"data row1 col9\" >255</td>\n",
       "      <td id=\"T_ee889_row1_col10\" class=\"data row1 col10\" >254</td>\n",
       "      <td id=\"T_ee889_row1_col11\" class=\"data row1 col11\" >176</td>\n",
       "      <td id=\"T_ee889_row1_col12\" class=\"data row1 col12\" >193</td>\n",
       "      <td id=\"T_ee889_row1_col13\" class=\"data row1 col13\" >150</td>\n",
       "      <td id=\"T_ee889_row1_col14\" class=\"data row1 col14\" >96</td>\n",
       "      <td id=\"T_ee889_row1_col15\" class=\"data row1 col15\" >0</td>\n",
       "      <td id=\"T_ee889_row1_col16\" class=\"data row1 col16\" >0</td>\n",
       "      <td id=\"T_ee889_row1_col17\" class=\"data row1 col17\" >0</td>\n",
       "    </tr>\n",
       "    <tr>\n",
       "      <th id=\"T_ee889_level0_row2\" class=\"row_heading level0 row2\" >2</th>\n",
       "      <td id=\"T_ee889_row2_col0\" class=\"data row2 col0\" >0</td>\n",
       "      <td id=\"T_ee889_row2_col1\" class=\"data row2 col1\" >0</td>\n",
       "      <td id=\"T_ee889_row2_col2\" class=\"data row2 col2\" >0</td>\n",
       "      <td id=\"T_ee889_row2_col3\" class=\"data row2 col3\" >48</td>\n",
       "      <td id=\"T_ee889_row2_col4\" class=\"data row2 col4\" >166</td>\n",
       "      <td id=\"T_ee889_row2_col5\" class=\"data row2 col5\" >224</td>\n",
       "      <td id=\"T_ee889_row2_col6\" class=\"data row2 col6\" >253</td>\n",
       "      <td id=\"T_ee889_row2_col7\" class=\"data row2 col7\" >253</td>\n",
       "      <td id=\"T_ee889_row2_col8\" class=\"data row2 col8\" >234</td>\n",
       "      <td id=\"T_ee889_row2_col9\" class=\"data row2 col9\" >196</td>\n",
       "      <td id=\"T_ee889_row2_col10\" class=\"data row2 col10\" >253</td>\n",
       "      <td id=\"T_ee889_row2_col11\" class=\"data row2 col11\" >253</td>\n",
       "      <td id=\"T_ee889_row2_col12\" class=\"data row2 col12\" >253</td>\n",
       "      <td id=\"T_ee889_row2_col13\" class=\"data row2 col13\" >253</td>\n",
       "      <td id=\"T_ee889_row2_col14\" class=\"data row2 col14\" >233</td>\n",
       "      <td id=\"T_ee889_row2_col15\" class=\"data row2 col15\" >0</td>\n",
       "      <td id=\"T_ee889_row2_col16\" class=\"data row2 col16\" >0</td>\n",
       "      <td id=\"T_ee889_row2_col17\" class=\"data row2 col17\" >0</td>\n",
       "    </tr>\n",
       "    <tr>\n",
       "      <th id=\"T_ee889_level0_row3\" class=\"row_heading level0 row3\" >3</th>\n",
       "      <td id=\"T_ee889_row3_col0\" class=\"data row3 col0\" >0</td>\n",
       "      <td id=\"T_ee889_row3_col1\" class=\"data row3 col1\" >93</td>\n",
       "      <td id=\"T_ee889_row3_col2\" class=\"data row3 col2\" >244</td>\n",
       "      <td id=\"T_ee889_row3_col3\" class=\"data row3 col3\" >249</td>\n",
       "      <td id=\"T_ee889_row3_col4\" class=\"data row3 col4\" >253</td>\n",
       "      <td id=\"T_ee889_row3_col5\" class=\"data row3 col5\" >187</td>\n",
       "      <td id=\"T_ee889_row3_col6\" class=\"data row3 col6\" >46</td>\n",
       "      <td id=\"T_ee889_row3_col7\" class=\"data row3 col7\" >10</td>\n",
       "      <td id=\"T_ee889_row3_col8\" class=\"data row3 col8\" >8</td>\n",
       "      <td id=\"T_ee889_row3_col9\" class=\"data row3 col9\" >4</td>\n",
       "      <td id=\"T_ee889_row3_col10\" class=\"data row3 col10\" >10</td>\n",
       "      <td id=\"T_ee889_row3_col11\" class=\"data row3 col11\" >194</td>\n",
       "      <td id=\"T_ee889_row3_col12\" class=\"data row3 col12\" >253</td>\n",
       "      <td id=\"T_ee889_row3_col13\" class=\"data row3 col13\" >253</td>\n",
       "      <td id=\"T_ee889_row3_col14\" class=\"data row3 col14\" >233</td>\n",
       "      <td id=\"T_ee889_row3_col15\" class=\"data row3 col15\" >0</td>\n",
       "      <td id=\"T_ee889_row3_col16\" class=\"data row3 col16\" >0</td>\n",
       "      <td id=\"T_ee889_row3_col17\" class=\"data row3 col17\" >0</td>\n",
       "    </tr>\n",
       "    <tr>\n",
       "      <th id=\"T_ee889_level0_row4\" class=\"row_heading level0 row4\" >4</th>\n",
       "      <td id=\"T_ee889_row4_col0\" class=\"data row4 col0\" >0</td>\n",
       "      <td id=\"T_ee889_row4_col1\" class=\"data row4 col1\" >107</td>\n",
       "      <td id=\"T_ee889_row4_col2\" class=\"data row4 col2\" >253</td>\n",
       "      <td id=\"T_ee889_row4_col3\" class=\"data row4 col3\" >253</td>\n",
       "      <td id=\"T_ee889_row4_col4\" class=\"data row4 col4\" >230</td>\n",
       "      <td id=\"T_ee889_row4_col5\" class=\"data row4 col5\" >48</td>\n",
       "      <td id=\"T_ee889_row4_col6\" class=\"data row4 col6\" >0</td>\n",
       "      <td id=\"T_ee889_row4_col7\" class=\"data row4 col7\" >0</td>\n",
       "      <td id=\"T_ee889_row4_col8\" class=\"data row4 col8\" >0</td>\n",
       "      <td id=\"T_ee889_row4_col9\" class=\"data row4 col9\" >0</td>\n",
       "      <td id=\"T_ee889_row4_col10\" class=\"data row4 col10\" >0</td>\n",
       "      <td id=\"T_ee889_row4_col11\" class=\"data row4 col11\" >192</td>\n",
       "      <td id=\"T_ee889_row4_col12\" class=\"data row4 col12\" >253</td>\n",
       "      <td id=\"T_ee889_row4_col13\" class=\"data row4 col13\" >253</td>\n",
       "      <td id=\"T_ee889_row4_col14\" class=\"data row4 col14\" >156</td>\n",
       "      <td id=\"T_ee889_row4_col15\" class=\"data row4 col15\" >0</td>\n",
       "      <td id=\"T_ee889_row4_col16\" class=\"data row4 col16\" >0</td>\n",
       "      <td id=\"T_ee889_row4_col17\" class=\"data row4 col17\" >0</td>\n",
       "    </tr>\n",
       "    <tr>\n",
       "      <th id=\"T_ee889_level0_row5\" class=\"row_heading level0 row5\" >5</th>\n",
       "      <td id=\"T_ee889_row5_col0\" class=\"data row5 col0\" >0</td>\n",
       "      <td id=\"T_ee889_row5_col1\" class=\"data row5 col1\" >3</td>\n",
       "      <td id=\"T_ee889_row5_col2\" class=\"data row5 col2\" >20</td>\n",
       "      <td id=\"T_ee889_row5_col3\" class=\"data row5 col3\" >20</td>\n",
       "      <td id=\"T_ee889_row5_col4\" class=\"data row5 col4\" >15</td>\n",
       "      <td id=\"T_ee889_row5_col5\" class=\"data row5 col5\" >0</td>\n",
       "      <td id=\"T_ee889_row5_col6\" class=\"data row5 col6\" >0</td>\n",
       "      <td id=\"T_ee889_row5_col7\" class=\"data row5 col7\" >0</td>\n",
       "      <td id=\"T_ee889_row5_col8\" class=\"data row5 col8\" >0</td>\n",
       "      <td id=\"T_ee889_row5_col9\" class=\"data row5 col9\" >0</td>\n",
       "      <td id=\"T_ee889_row5_col10\" class=\"data row5 col10\" >43</td>\n",
       "      <td id=\"T_ee889_row5_col11\" class=\"data row5 col11\" >224</td>\n",
       "      <td id=\"T_ee889_row5_col12\" class=\"data row5 col12\" >253</td>\n",
       "      <td id=\"T_ee889_row5_col13\" class=\"data row5 col13\" >245</td>\n",
       "      <td id=\"T_ee889_row5_col14\" class=\"data row5 col14\" >74</td>\n",
       "      <td id=\"T_ee889_row5_col15\" class=\"data row5 col15\" >0</td>\n",
       "      <td id=\"T_ee889_row5_col16\" class=\"data row5 col16\" >0</td>\n",
       "      <td id=\"T_ee889_row5_col17\" class=\"data row5 col17\" >0</td>\n",
       "    </tr>\n",
       "    <tr>\n",
       "      <th id=\"T_ee889_level0_row6\" class=\"row_heading level0 row6\" >6</th>\n",
       "      <td id=\"T_ee889_row6_col0\" class=\"data row6 col0\" >0</td>\n",
       "      <td id=\"T_ee889_row6_col1\" class=\"data row6 col1\" >0</td>\n",
       "      <td id=\"T_ee889_row6_col2\" class=\"data row6 col2\" >0</td>\n",
       "      <td id=\"T_ee889_row6_col3\" class=\"data row6 col3\" >0</td>\n",
       "      <td id=\"T_ee889_row6_col4\" class=\"data row6 col4\" >0</td>\n",
       "      <td id=\"T_ee889_row6_col5\" class=\"data row6 col5\" >0</td>\n",
       "      <td id=\"T_ee889_row6_col6\" class=\"data row6 col6\" >0</td>\n",
       "      <td id=\"T_ee889_row6_col7\" class=\"data row6 col7\" >0</td>\n",
       "      <td id=\"T_ee889_row6_col8\" class=\"data row6 col8\" >0</td>\n",
       "      <td id=\"T_ee889_row6_col9\" class=\"data row6 col9\" >0</td>\n",
       "      <td id=\"T_ee889_row6_col10\" class=\"data row6 col10\" >249</td>\n",
       "      <td id=\"T_ee889_row6_col11\" class=\"data row6 col11\" >253</td>\n",
       "      <td id=\"T_ee889_row6_col12\" class=\"data row6 col12\" >245</td>\n",
       "      <td id=\"T_ee889_row6_col13\" class=\"data row6 col13\" >126</td>\n",
       "      <td id=\"T_ee889_row6_col14\" class=\"data row6 col14\" >0</td>\n",
       "      <td id=\"T_ee889_row6_col15\" class=\"data row6 col15\" >0</td>\n",
       "      <td id=\"T_ee889_row6_col16\" class=\"data row6 col16\" >0</td>\n",
       "      <td id=\"T_ee889_row6_col17\" class=\"data row6 col17\" >0</td>\n",
       "    </tr>\n",
       "    <tr>\n",
       "      <th id=\"T_ee889_level0_row7\" class=\"row_heading level0 row7\" >7</th>\n",
       "      <td id=\"T_ee889_row7_col0\" class=\"data row7 col0\" >0</td>\n",
       "      <td id=\"T_ee889_row7_col1\" class=\"data row7 col1\" >0</td>\n",
       "      <td id=\"T_ee889_row7_col2\" class=\"data row7 col2\" >0</td>\n",
       "      <td id=\"T_ee889_row7_col3\" class=\"data row7 col3\" >0</td>\n",
       "      <td id=\"T_ee889_row7_col4\" class=\"data row7 col4\" >0</td>\n",
       "      <td id=\"T_ee889_row7_col5\" class=\"data row7 col5\" >0</td>\n",
       "      <td id=\"T_ee889_row7_col6\" class=\"data row7 col6\" >0</td>\n",
       "      <td id=\"T_ee889_row7_col7\" class=\"data row7 col7\" >14</td>\n",
       "      <td id=\"T_ee889_row7_col8\" class=\"data row7 col8\" >101</td>\n",
       "      <td id=\"T_ee889_row7_col9\" class=\"data row7 col9\" >223</td>\n",
       "      <td id=\"T_ee889_row7_col10\" class=\"data row7 col10\" >253</td>\n",
       "      <td id=\"T_ee889_row7_col11\" class=\"data row7 col11\" >248</td>\n",
       "      <td id=\"T_ee889_row7_col12\" class=\"data row7 col12\" >124</td>\n",
       "      <td id=\"T_ee889_row7_col13\" class=\"data row7 col13\" >0</td>\n",
       "      <td id=\"T_ee889_row7_col14\" class=\"data row7 col14\" >0</td>\n",
       "      <td id=\"T_ee889_row7_col15\" class=\"data row7 col15\" >0</td>\n",
       "      <td id=\"T_ee889_row7_col16\" class=\"data row7 col16\" >0</td>\n",
       "      <td id=\"T_ee889_row7_col17\" class=\"data row7 col17\" >0</td>\n",
       "    </tr>\n",
       "    <tr>\n",
       "      <th id=\"T_ee889_level0_row8\" class=\"row_heading level0 row8\" >8</th>\n",
       "      <td id=\"T_ee889_row8_col0\" class=\"data row8 col0\" >0</td>\n",
       "      <td id=\"T_ee889_row8_col1\" class=\"data row8 col1\" >0</td>\n",
       "      <td id=\"T_ee889_row8_col2\" class=\"data row8 col2\" >0</td>\n",
       "      <td id=\"T_ee889_row8_col3\" class=\"data row8 col3\" >0</td>\n",
       "      <td id=\"T_ee889_row8_col4\" class=\"data row8 col4\" >0</td>\n",
       "      <td id=\"T_ee889_row8_col5\" class=\"data row8 col5\" >11</td>\n",
       "      <td id=\"T_ee889_row8_col6\" class=\"data row8 col6\" >166</td>\n",
       "      <td id=\"T_ee889_row8_col7\" class=\"data row8 col7\" >239</td>\n",
       "      <td id=\"T_ee889_row8_col8\" class=\"data row8 col8\" >253</td>\n",
       "      <td id=\"T_ee889_row8_col9\" class=\"data row8 col9\" >253</td>\n",
       "      <td id=\"T_ee889_row8_col10\" class=\"data row8 col10\" >253</td>\n",
       "      <td id=\"T_ee889_row8_col11\" class=\"data row8 col11\" >187</td>\n",
       "      <td id=\"T_ee889_row8_col12\" class=\"data row8 col12\" >30</td>\n",
       "      <td id=\"T_ee889_row8_col13\" class=\"data row8 col13\" >0</td>\n",
       "      <td id=\"T_ee889_row8_col14\" class=\"data row8 col14\" >0</td>\n",
       "      <td id=\"T_ee889_row8_col15\" class=\"data row8 col15\" >0</td>\n",
       "      <td id=\"T_ee889_row8_col16\" class=\"data row8 col16\" >0</td>\n",
       "      <td id=\"T_ee889_row8_col17\" class=\"data row8 col17\" >0</td>\n",
       "    </tr>\n",
       "    <tr>\n",
       "      <th id=\"T_ee889_level0_row9\" class=\"row_heading level0 row9\" >9</th>\n",
       "      <td id=\"T_ee889_row9_col0\" class=\"data row9 col0\" >0</td>\n",
       "      <td id=\"T_ee889_row9_col1\" class=\"data row9 col1\" >0</td>\n",
       "      <td id=\"T_ee889_row9_col2\" class=\"data row9 col2\" >0</td>\n",
       "      <td id=\"T_ee889_row9_col3\" class=\"data row9 col3\" >0</td>\n",
       "      <td id=\"T_ee889_row9_col4\" class=\"data row9 col4\" >0</td>\n",
       "      <td id=\"T_ee889_row9_col5\" class=\"data row9 col5\" >16</td>\n",
       "      <td id=\"T_ee889_row9_col6\" class=\"data row9 col6\" >248</td>\n",
       "      <td id=\"T_ee889_row9_col7\" class=\"data row9 col7\" >250</td>\n",
       "      <td id=\"T_ee889_row9_col8\" class=\"data row9 col8\" >253</td>\n",
       "      <td id=\"T_ee889_row9_col9\" class=\"data row9 col9\" >253</td>\n",
       "      <td id=\"T_ee889_row9_col10\" class=\"data row9 col10\" >253</td>\n",
       "      <td id=\"T_ee889_row9_col11\" class=\"data row9 col11\" >253</td>\n",
       "      <td id=\"T_ee889_row9_col12\" class=\"data row9 col12\" >232</td>\n",
       "      <td id=\"T_ee889_row9_col13\" class=\"data row9 col13\" >213</td>\n",
       "      <td id=\"T_ee889_row9_col14\" class=\"data row9 col14\" >111</td>\n",
       "      <td id=\"T_ee889_row9_col15\" class=\"data row9 col15\" >2</td>\n",
       "      <td id=\"T_ee889_row9_col16\" class=\"data row9 col16\" >0</td>\n",
       "      <td id=\"T_ee889_row9_col17\" class=\"data row9 col17\" >0</td>\n",
       "    </tr>\n",
       "    <tr>\n",
       "      <th id=\"T_ee889_level0_row10\" class=\"row_heading level0 row10\" >10</th>\n",
       "      <td id=\"T_ee889_row10_col0\" class=\"data row10 col0\" >0</td>\n",
       "      <td id=\"T_ee889_row10_col1\" class=\"data row10 col1\" >0</td>\n",
       "      <td id=\"T_ee889_row10_col2\" class=\"data row10 col2\" >0</td>\n",
       "      <td id=\"T_ee889_row10_col3\" class=\"data row10 col3\" >0</td>\n",
       "      <td id=\"T_ee889_row10_col4\" class=\"data row10 col4\" >0</td>\n",
       "      <td id=\"T_ee889_row10_col5\" class=\"data row10 col5\" >0</td>\n",
       "      <td id=\"T_ee889_row10_col6\" class=\"data row10 col6\" >0</td>\n",
       "      <td id=\"T_ee889_row10_col7\" class=\"data row10 col7\" >43</td>\n",
       "      <td id=\"T_ee889_row10_col8\" class=\"data row10 col8\" >98</td>\n",
       "      <td id=\"T_ee889_row10_col9\" class=\"data row10 col9\" >98</td>\n",
       "      <td id=\"T_ee889_row10_col10\" class=\"data row10 col10\" >208</td>\n",
       "      <td id=\"T_ee889_row10_col11\" class=\"data row10 col11\" >253</td>\n",
       "      <td id=\"T_ee889_row10_col12\" class=\"data row10 col12\" >253</td>\n",
       "      <td id=\"T_ee889_row10_col13\" class=\"data row10 col13\" >253</td>\n",
       "      <td id=\"T_ee889_row10_col14\" class=\"data row10 col14\" >253</td>\n",
       "      <td id=\"T_ee889_row10_col15\" class=\"data row10 col15\" >187</td>\n",
       "      <td id=\"T_ee889_row10_col16\" class=\"data row10 col16\" >22</td>\n",
       "      <td id=\"T_ee889_row10_col17\" class=\"data row10 col17\" >0</td>\n",
       "    </tr>\n",
       "  </tbody>\n",
       "</table>\n"
      ]
     },
     "execution_count": 14,
     "metadata": {},
     "output_type": "execute_result"
    }
   ],
   "execution_count": 14
  },
  {
   "metadata": {},
   "cell_type": "markdown",
   "source": "my guess: 电脑如何区分3或者7呢？3中间会向中心弯曲，7不会，计算中心像素点的位置，计算下面的位置是向左还是向右。向左是3，向右是7.",
   "id": "fd63077155e94ccc"
  },
  {
   "metadata": {},
   "cell_type": "markdown",
   "source": [
    "Baseline: 第一个猜想，计算3的像素平均值，7的像素平均值。\n",
    "关于基线：一个简单易行的模型，还有一个方法是寻找其他解决相似问题人的模型\n",
    "------\n",
    "列表和字典都有推导，包含3个部分，迭代的集合或列表，过滤器，还有函数（每个元素都有关的）new_list=[f(o) for o in a_list if o>0]"
   ],
   "id": "e4ec870daf49025e"
  },
  {
   "metadata": {
    "ExecuteTime": {
     "end_time": "2025-06-28T02:05:12.706205Z",
     "start_time": "2025-06-28T02:05:11.060042Z"
    }
   },
   "cell_type": "code",
   "source": [
    "# 首先用列表推到创建单个图像张量列表\n",
    "# In a computer, everything is represented as a number. To view the numbers that make up this image, we have to convert it to a NumPy array or a PyTorch tensor\n",
    "# 类型名称：PIL.Image.Image，包含图像像素数据、尺寸、模式（如 RGB、灰度）等信息\n",
    "seven_tensors = [tensor(Image.open(o)) for o in sevens]\n",
    "three_tensors = [tensor(Image.open(o)) for o in threes]\n",
    "len(three_tensors),len(seven_tensors)\n"
   ],
   "id": "dde2f54f6b1007a9",
   "outputs": [
    {
     "data": {
      "text/plain": [
       "(6131, 6265)"
      ]
     },
     "execution_count": 15,
     "metadata": {},
     "output_type": "execute_result"
    }
   ],
   "execution_count": 15
  },
  {
   "metadata": {
    "ExecuteTime": {
     "end_time": "2025-06-28T02:05:13.183872Z",
     "start_time": "2025-06-28T02:05:13.134813Z"
    }
   },
   "cell_type": "code",
   "source": [
    "# tensor , jupyter 默认打印数值，而PIL image，jupyter默认打印图片,使用fastai 的show_image可以打印图片\n",
    "show_image(three_tensors[1])"
   ],
   "id": "def67e3de6420e85",
   "outputs": [
    {
     "data": {
      "text/plain": [
       "<Axes: >"
      ]
     },
     "execution_count": 16,
     "metadata": {},
     "output_type": "execute_result"
    },
    {
     "data": {
      "text/plain": [
       "<Figure size 100x100 with 1 Axes>"
      ],
      "image/png": "[encoded data removed]"
     },
     "metadata": {},
     "output_type": "display_data"
    }
   ],
   "execution_count": 16
  },
  {
   "metadata": {},
   "cell_type": "markdown",
   "source": [
    "计算平均值，吧素有的图片存储到single three-dimensional tensor，最常见的是秩3张\n",
    "不出意外，PyTorch 有一个stack 可以达成目的。PyTorch 处理平均值，需要转变类型为 float types\n",
    "当图片是float类型，像素通常预期在0-1之间，所以我们这里除以255."
   ],
   "id": "58abb5cc4047b509"
  },
  {
   "metadata": {
    "ExecuteTime": {
     "end_time": "2025-06-28T02:05:13.413271Z",
     "start_time": "2025-06-28T02:05:13.402505Z"
    }
   },
   "cell_type": "code",
   "source": [
    "stacked_sevens = torch.stack(seven_tensors).float()/255\n",
    "stacked_threes = torch.stack(three_tensors).float()/255\n",
    "stacked_threes.shape"
   ],
   "id": "cd23985c3cd80ea1",
   "outputs": [
    {
     "data": {
      "text/plain": [
       "torch.Size([6131, 28, 28])"
      ]
     },
     "execution_count": 17,
     "metadata": {},
     "output_type": "execute_result"
    }
   ],
   "execution_count": 17
  },
  {
   "metadata": {},
   "cell_type": "markdown",
   "source": "",
   "id": "437f3bbcf7845ba0"
  },
  {
   "metadata": {
    "ExecuteTime": {
     "end_time": "2025-06-28T02:05:13.629078Z",
     "start_time": "2025-06-28T02:05:13.627090Z"
    }
   },
   "cell_type": "code",
   "source": "len(stacked_threes.shape)",
   "id": "9213ac7b2b7d7e4e",
   "outputs": [
    {
     "data": {
      "text/plain": [
       "3"
      ]
     },
     "execution_count": 18,
     "metadata": {},
     "output_type": "execute_result"
    }
   ],
   "execution_count": 18
  },
  {
   "metadata": {},
   "cell_type": "markdown",
   "source": [
    "秩（rank）：指张量的轴（axis）数量或维度数量，是描述张量维度数的明确术语。\n",
    "------\n",
    "形状（shape）：指张量每个轴的尺寸大小，例如形状为(3, 4)的张量表示有 2 个轴，第一个轴长度为 3，第二个轴长度为 4。\n",
    "------\n",
    "rank 和 shape。如秩 1 张量表示向量，秩 2 表示矩阵，秩 3 表示三维数组等"
   ],
   "id": "b0d41ad6def1c2bc"
  },
  {
   "metadata": {
    "ExecuteTime": {
     "end_time": "2025-06-28T02:05:13.843Z",
     "start_time": "2025-06-28T02:05:13.841134Z"
    }
   },
   "cell_type": "code",
   "source": "stacked_threes.ndim  # 获取张量的秩",
   "id": "e272cb6ee151abcc",
   "outputs": [
    {
     "data": {
      "text/plain": [
       "3"
      ]
     },
     "execution_count": 19,
     "metadata": {},
     "output_type": "execute_result"
    }
   ],
   "execution_count": 19
  },
  {
   "metadata": {
    "ExecuteTime": {
     "end_time": "2025-06-28T02:05:14.060789Z",
     "start_time": "2025-06-28T02:05:14.051214Z"
    }
   },
   "cell_type": "code",
   "source": [
    "mean3 = stacked_threes.mean(0)   # 计算每个位置像素的平均值，形成一个理想的图片\n",
    "show_image(mean3)"
   ],
   "id": "bf46992e07bcf5c",
   "outputs": [
    {
     "data": {
      "text/plain": [
       "<Axes: >"
      ]
     },
     "execution_count": 20,
     "metadata": {},
     "output_type": "execute_result"
    },
    {
     "data": {
      "text/plain": [
       "<Figure size 100x100 with 1 Axes>"
      ],
      "image/png": "[encoded data removed]"
     },
     "metadata": {},
     "output_type": "display_data"
    }
   ],
   "execution_count": 20
  },
  {
   "metadata": {
    "ExecuteTime": {
     "end_time": "2025-06-28T02:05:14.289279Z",
     "start_time": "2025-06-28T02:05:14.279479Z"
    }
   },
   "cell_type": "code",
   "source": [
    "mean7 = stacked_sevens.mean(0)\n",
    "show_image(mean7)"
   ],
   "id": "3e5b789c55e19cf9",
   "outputs": [
    {
     "data": {
      "text/plain": [
       "<Axes: >"
      ]
     },
     "execution_count": 21,
     "metadata": {},
     "output_type": "execute_result"
    },
    {
     "data": {
      "text/plain": [
       "<Figure size 100x100 with 1 Axes>"
      ],
      "image/png": "[encoded data removed]"
     },
     "metadata": {},
     "output_type": "display_data"
    }
   ],
   "execution_count": 21
  },
  {
   "metadata": {},
   "cell_type": "markdown",
   "source": [
    "你会如何计算一个图片和理想图片的差值。计算每个像素位置的值与理想的差值，计算平方差。\n",
    "- 不能直接相加，有些差值正的，有些差值负的，会抵消。\n",
    "- 数据科学家使用两种方法，1 计算绝对值相加，求平均。绝对值误差又叫L1 norm。\n",
    "- 2、计算差值平方的均值，还要开平方，这叫 RMSE 或 L2 norm。均方根误差。\n"
   ],
   "id": "93f6cd768c61f662"
  },
  {
   "metadata": {
    "ExecuteTime": {
     "end_time": "2025-06-28T02:05:14.514722Z",
     "start_time": "2025-06-28T02:05:14.506702Z"
    }
   },
   "cell_type": "code",
   "source": [
    "a_3 = stacked_threes[1]   # 举例\n",
    "show_image(a_3)"
   ],
   "id": "21986bcbd73ece98",
   "outputs": [
    {
     "data": {
      "text/plain": [
       "<Axes: >"
      ]
     },
     "execution_count": 22,
     "metadata": {},
     "output_type": "execute_result"
    },
    {
     "data": {
      "text/plain": [
       "<Figure size 100x100 with 1 Axes>"
      ],
      "image/png": "[encoded data removed]"
     },
     "metadata": {},
     "output_type": "display_data"
    }
   ],
   "execution_count": 22
  },
  {
   "metadata": {
    "ExecuteTime": {
     "end_time": "2025-06-28T02:05:14.735253Z",
     "start_time": "2025-06-28T02:05:14.732340Z"
    }
   },
   "cell_type": "code",
   "source": [
    "dist_3_abs = (a_3 - mean3).abs().mean()\n",
    "dist_3_sqr = ((a_3 - mean3)**2).mean().sqrt_()\n",
    "dist_3_abs, dist_3_sqr"
   ],
   "id": "c2303a9d7ca5e98b",
   "outputs": [
    {
     "data": {
      "text/plain": [
       "(tensor(0.1114), tensor(0.2021))"
      ]
     },
     "execution_count": 23,
     "metadata": {},
     "output_type": "execute_result"
    }
   ],
   "execution_count": 23
  },
  {
   "metadata": {
    "ExecuteTime": {
     "end_time": "2025-06-28T02:05:14.959091Z",
     "start_time": "2025-06-28T02:05:14.956488Z"
    }
   },
   "cell_type": "code",
   "source": [
    "dist_7_abs = (a_3 - mean7).abs().mean()\n",
    "dist_7_sqr = ((a_3 - mean7)**2).mean().sqrt_()\n",
    "dist_7_abs, dist_7_sqr"
   ],
   "id": "b4863392e35f9131",
   "outputs": [
    {
     "data": {
      "text/plain": [
       "(tensor(0.1586), tensor(0.3021))"
      ]
     },
     "execution_count": 24,
     "metadata": {},
     "output_type": "execute_result"
    }
   ],
   "execution_count": 24
  },
  {
   "metadata": {},
   "cell_type": "markdown",
   "source": [
    "- l1 refers to the standard mathematical jargon for mean absolute value(in math it's called the L1 norm)。\n",
    "平均绝对差\n",
    "- 均方差 mse"
   ],
   "id": "648ebdc322dc0855"
  },
  {
   "metadata": {
    "ExecuteTime": {
     "end_time": "2025-06-28T02:05:15.176889Z",
     "start_time": "2025-06-28T02:05:15.174066Z"
    }
   },
   "cell_type": "code",
   "source": "    F.l1_loss(a_3.float(), mean7), F.mse_loss(a_3, mean7).sqrt()",
   "id": "c6b1e42d9ccdd7c1",
   "outputs": [
    {
     "data": {
      "text/plain": [
       "(tensor(0.1586), tensor(0.3021))"
      ]
     },
     "execution_count": 25,
     "metadata": {},
     "output_type": "execute_result"
    }
   ],
   "execution_count": 25
  },
  {
   "metadata": {},
   "cell_type": "markdown",
   "source": [
    "NumPy Arrays and PyTorch Tensors\n",
    "----"
   ],
   "id": "fcd55ee8249dac69"
  },
  {
   "metadata": {},
   "cell_type": "markdown",
   "source": [
    "NumPy与PyTorch非常相似，但是它不支持GPU和计算梯度，这两者对机器学习非常重要。所以我们使用PyTorch tensors 而不是 Numpy Arrays.\n",
    "\n",
    "NumPy arrays and PyTorch tensors can finish computations many thousands of times faster than using pure Python.\n",
    "\n",
    "NumPy 数组是一个多维数据表，其中所有项目都属于同一类型。然而，限制在于张量不能使用任何旧类型——它必须对所有组件使用单一基本数字类型。\n",
    "\n",
    "例如，PyTorch 张量不能是锯齿状的。它始终是一个规则形状的多维矩形结构。\n",
    "PyTorch可以使用GPU,并针对GPU优化，运行的更快\n",
    "此外，PyTorch 可以自动计算这些运算的导数，包括运算的组合。正如你所见，如果没有这项功能，深度学习在实践中将无法实现。\n",
    "\n",
    "* 减少写循环，使用arrays或 tensors，这样能加快python 运行速度\n",
    "* 对于 Python 程序员来说，最重要的新编码技能可能是如何有效地使用数组/张量 API。\n"
   ],
   "id": "e95f775ffbe9e4b8"
  },
  {
   "metadata": {},
   "cell_type": "markdown",
   "source": "序列（sequence) 是列表(list) 和数组( array) 的统称",
   "id": "e42d943c1ca1bc80"
  },
  {
   "metadata": {
    "ExecuteTime": {
     "end_time": "2025-06-28T02:05:15.534702Z",
     "start_time": "2025-06-28T02:05:15.395228Z"
    }
   },
   "cell_type": "code",
   "source": "![](array.png)",
   "id": "bc417d191d9e4530",
   "outputs": [
    {
     "name": "stdout",
     "output_type": "stream",
     "text": [
      "zsh:1: number expected\r\n"
     ]
    }
   ],
   "execution_count": 26
  },
  {
   "metadata": {
    "ExecuteTime": {
     "end_time": "2025-06-28T02:05:15.756283Z",
     "start_time": "2025-06-28T02:05:15.754584Z"
    }
   },
   "cell_type": "code",
   "source": [
    "data=[[1,2,3],[4,5,6]]\n",
    "arr=array(data)\n",
    "tns=tensor(data)\n"
   ],
   "id": "2358cc3b85d854e5",
   "outputs": [],
   "execution_count": 27
  },
  {
   "metadata": {
    "ExecuteTime": {
     "end_time": "2025-06-28T02:05:15.974820Z",
     "start_time": "2025-06-28T02:05:15.972861Z"
    }
   },
   "cell_type": "code",
   "source": "arr",
   "id": "ddff009a57a4f280",
   "outputs": [
    {
     "data": {
      "text/plain": [
       "array([[1, 2, 3],\n",
       "       [4, 5, 6]])"
      ]
     },
     "execution_count": 28,
     "metadata": {},
     "output_type": "execute_result"
    }
   ],
   "execution_count": 28
  },
  {
   "metadata": {
    "ExecuteTime": {
     "end_time": "2025-06-28T02:05:16.207680Z",
     "start_time": "2025-06-28T02:05:16.205593Z"
    }
   },
   "cell_type": "code",
   "source": "tns",
   "id": "acab4ef35771b246",
   "outputs": [
    {
     "data": {
      "text/plain": [
       "tensor([[1, 2, 3],\n",
       "        [4, 5, 6]])"
      ]
     },
     "execution_count": 29,
     "metadata": {},
     "output_type": "execute_result"
    }
   ],
   "execution_count": 29
  },
  {
   "metadata": {
    "ExecuteTime": {
     "end_time": "2025-06-28T02:05:16.459434Z",
     "start_time": "2025-06-28T02:05:16.457262Z"
    }
   },
   "cell_type": "code",
   "source": "tns[1]",
   "id": "8651441fa334d90a",
   "outputs": [
    {
     "data": {
      "text/plain": [
       "tensor([4, 5, 6])"
      ]
     },
     "execution_count": 30,
     "metadata": {},
     "output_type": "execute_result"
    }
   ],
   "execution_count": 30
  },
  {
   "metadata": {
    "ExecuteTime": {
     "end_time": "2025-06-28T02:05:16.901430Z",
     "start_time": "2025-06-28T02:05:16.898785Z"
    }
   },
   "cell_type": "code",
   "source": "tns[:,1]",
   "id": "c491eae6aea1bb37",
   "outputs": [
    {
     "data": {
      "text/plain": [
       "tensor([2, 5])"
      ]
     },
     "execution_count": 31,
     "metadata": {},
     "output_type": "execute_result"
    }
   ],
   "execution_count": 31
  },
  {
   "metadata": {
    "ExecuteTime": {
     "end_time": "2025-06-28T02:05:17.332660Z",
     "start_time": "2025-06-28T02:05:17.330213Z"
    }
   },
   "cell_type": "code",
   "source": "tns[1,1:3]",
   "id": "891d23f7f819a497",
   "outputs": [
    {
     "data": {
      "text/plain": [
       "tensor([5, 6])"
      ]
     },
     "execution_count": 32,
     "metadata": {},
     "output_type": "execute_result"
    }
   ],
   "execution_count": 32
  },
  {
   "metadata": {
    "ExecuteTime": {
     "end_time": "2025-06-28T02:05:17.548280Z",
     "start_time": "2025-06-28T02:05:17.546004Z"
    }
   },
   "cell_type": "code",
   "source": "tns.type()",
   "id": "941381d7bbbb7fad",
   "outputs": [
    {
     "data": {
      "text/plain": [
       "'torch.LongTensor'"
      ]
     },
     "execution_count": 33,
     "metadata": {},
     "output_type": "execute_result"
    }
   ],
   "execution_count": 33
  },
  {
   "metadata": {
    "ExecuteTime": {
     "end_time": "2025-06-28T02:05:17.760776Z",
     "start_time": "2025-06-28T02:05:17.758733Z"
    }
   },
   "cell_type": "code",
   "source": "tns+1",
   "id": "630c278cb5806d36",
   "outputs": [
    {
     "data": {
      "text/plain": [
       "tensor([[2, 3, 4],\n",
       "        [5, 6, 7]])"
      ]
     },
     "execution_count": 34,
     "metadata": {},
     "output_type": "execute_result"
    }
   ],
   "execution_count": 34
  },
  {
   "metadata": {
    "ExecuteTime": {
     "end_time": "2025-06-28T02:05:18.087797Z",
     "start_time": "2025-06-28T02:05:18.085397Z"
    }
   },
   "cell_type": "code",
   "source": "tns*1.5",
   "id": "7f3428abcb717d7b",
   "outputs": [
    {
     "data": {
      "text/plain": [
       "tensor([[1.5000, 3.0000, 4.5000],\n",
       "        [6.0000, 7.5000, 9.0000]])"
      ]
     },
     "execution_count": 35,
     "metadata": {},
     "output_type": "execute_result"
    }
   ],
   "execution_count": 35
  },
  {
   "metadata": {},
   "cell_type": "markdown",
   "source": [
    "#### 使用广播机制(Broadcasting)计算指标(Metrics)\n",
    "\n",
    "1、指标的本质：\n",
    "    指标是基于模型预测与数据集真实标签计算的数值，用于衡量模型性能。\n",
    "2、常见指标类型：\n",
    "   - 回归任务：均方误差（MSE）、平均绝对误差（MAE）；\n",
    "   - 分类任务：准确率（更易理解，实际应用中常用）。"
   ],
   "id": "10a352055b8fc4a5"
  },
  {
   "metadata": {
    "ExecuteTime": {
     "end_time": "2025-06-28T02:05:18.587865Z",
     "start_time": "2025-06-28T02:05:18.335440Z"
    }
   },
   "cell_type": "code",
   "source": [
    "valid_3_tens = torch.stack([tensor(Image.open(o)) for o in (path/'valid'/'3').ls()])\n",
    "valid_3_tens = valid_3_tens.float()/255\n",
    "valid_7_tens = torch.stack([tensor(Image.open(o)) for o in (path/'valid'/'7').ls()])\n",
    "valid_7_tens = valid_7_tens.float()/255\n",
    "valid_3_tens.shape,valid_7_tens.shape"
   ],
   "id": "3b27027ab30aff15",
   "outputs": [
    {
     "data": {
      "text/plain": [
       "(torch.Size([1010, 28, 28]), torch.Size([1028, 28, 28]))"
      ]
     },
     "execution_count": 36,
     "metadata": {},
     "output_type": "execute_result"
    }
   ],
   "execution_count": 36
  },
  {
   "metadata": {
    "ExecuteTime": {
     "end_time": "2025-06-28T02:05:19.038212Z",
     "start_time": "2025-06-28T02:05:19.033538Z"
    }
   },
   "cell_type": "code",
   "source": [
    "def mnist_distance(a,b): return (a-b).abs().mean((-1,-2)) # mean((-1, -2)) 中的 (-1, -2) 是一个元组，表示 “同时对维度 1 和维度 2 求均值”\n",
    "mnist_distance(a_3,mean3)"
   ],
   "id": "ca9843a4a949d8a2",
   "outputs": [
    {
     "data": {
      "text/plain": [
       "tensor(0.1114)"
      ]
     },
     "execution_count": 37,
     "metadata": {},
     "output_type": "execute_result"
    }
   ],
   "execution_count": 37
  },
  {
   "metadata": {},
   "cell_type": "markdown",
   "source": [
    "利用广播机制，进行图片之间的计算\n",
    "返回的是一个向量，包含每个图片与理想图片的距离\n",
    "\n",
    "PyTorch 在两个张量运算时，把小秩扩展成大秩。\n",
    "\n",
    "mnist_distance:It applies the method to each individual element in the tensor, and returns a tensor of the results"
   ],
   "id": "510accdbd96c83f"
  },
  {
   "metadata": {
    "ExecuteTime": {
     "end_time": "2025-06-28T02:05:19.466322Z",
     "start_time": "2025-06-28T02:05:19.463371Z"
    }
   },
   "cell_type": "code",
   "source": [
    "valid_3_dist = mnist_distance(valid_3_tens,mean3) # 原著解读了一切\n",
    "valid_3_dist, valid_3_dist.shape"
   ],
   "id": "c28aa786ec7bae16",
   "outputs": [
    {
     "data": {
      "text/plain": [
       "(tensor([0.1634, 0.1145, 0.1363,  ..., 0.1105, 0.1111, 0.1640]),\n",
       " torch.Size([1010]))"
      ]
     },
     "execution_count": 38,
     "metadata": {},
     "output_type": "execute_result"
    }
   ],
   "execution_count": 38
  },
  {
   "metadata": {
    "ExecuteTime": {
     "end_time": "2025-06-28T02:05:19.687460Z",
     "start_time": "2025-06-28T02:05:19.684304Z"
    }
   },
   "cell_type": "code",
   "source": "a_3 - mean3",
   "id": "4fd3e2025d1de071",
   "outputs": [
    {
     "data": {
      "text/plain": [
       "tensor([[ 0.0000e+00,  0.0000e+00,  0.0000e+00,  0.0000e+00,  0.0000e+00,  0.0000e+00,  0.0000e+00,  0.0000e+00,  0.0000e+00,  0.0000e+00,  0.0000e+00,  0.0000e+00,  0.0000e+00,  0.0000e+00,\n",
       "          0.0000e+00,  0.0000e+00,  0.0000e+00,  0.0000e+00,  0.0000e+00,  0.0000e+00,  0.0000e+00,  0.0000e+00,  0.0000e+00,  0.0000e+00,  0.0000e+00,  0.0000e+00,  0.0000e+00,  0.0000e+00],\n",
       "        [ 0.0000e+00,  0.0000e+00,  0.0000e+00,  0.0000e+00,  0.0000e+00,  0.0000e+00,  0.0000e+00,  0.0000e+00,  0.0000e+00,  0.0000e+00,  0.0000e+00,  0.0000e+00,  0.0000e+00,  0.0000e+00,\n",
       "          0.0000e+00,  0.0000e+00,  0.0000e+00,  0.0000e+00,  0.0000e+00,  0.0000e+00,  0.0000e+00,  0.0000e+00,  0.0000e+00,  0.0000e+00,  0.0000e+00,  0.0000e+00,  0.0000e+00,  0.0000e+00],\n",
       "        [ 0.0000e+00,  0.0000e+00,  0.0000e+00,  0.0000e+00,  0.0000e+00,  0.0000e+00,  0.0000e+00,  0.0000e+00,  0.0000e+00,  0.0000e+00, -7.2918e-05, -1.9637e-04, -2.3410e-04, -1.9253e-04,\n",
       "         -2.7568e-04, -2.6161e-04, -2.9423e-04, -2.8400e-04, -1.5671e-04, -4.8612e-05, -5.7567e-06,  0.0000e+00,  0.0000e+00,  0.0000e+00,  0.0000e+00,  0.0000e+00,  0.0000e+00,  0.0000e+00],\n",
       "        [ 0.0000e+00,  0.0000e+00,  0.0000e+00,  0.0000e+00, -1.5991e-05, -4.8676e-04, -7.7331e-04, -1.4468e-03, -2.9788e-03, -5.6486e-03, -9.5177e-03, -1.5693e-02, -2.1113e-02, -2.4280e-02,\n",
       "         -2.5964e-02, -2.4268e-02, -2.0875e-02, -1.7108e-02, -1.1642e-02, -7.0436e-03, -3.9945e-03, -1.4955e-03, -3.2941e-04,  0.0000e+00,  0.0000e+00,  0.0000e+00,  0.0000e+00,  0.0000e+00],\n",
       "        [ 0.0000e+00, -2.4306e-05, -3.2621e-05, -1.5607e-04, -1.3995e-03, -5.7854e-03, -1.3664e-02, -3.0111e-02, -5.5401e-02, -9.0316e-02, -1.3725e-01, -1.8357e-01, -2.2128e-01, -2.4655e-01,\n",
       "         -2.4972e-01, -2.3536e-01, -1.9872e-01, -1.5084e-01, -1.0543e-01, -6.4754e-02, -3.2829e-02, -1.3352e-02, -4.5970e-03, -3.9273e-04, -1.9189e-06,  0.0000e+00,  0.0000e+00,  0.0000e+00],\n",
       "        [ 0.0000e+00,  0.0000e+00, -5.7567e-05, -1.5204e-03, -8.8909e-03, -2.7837e-02, -6.1064e-02, -1.1271e-01, -1.8688e-01, -1.6652e-01,  2.0526e-01,  2.8446e-01,  4.3731e-01,  3.8676e-01,\n",
       "          3.7279e-01,  9.2483e-02,  2.2852e-01,  1.6724e-01,  7.0714e-02, -2.0347e-01, -1.1742e-01, -5.3793e-02, -1.6992e-02, -3.4617e-03, -2.5905e-04,  0.0000e+00,  0.0000e+00,  0.0000e+00],\n",
       "        [ 0.0000e+00, -7.0359e-06, -3.0063e-04, -5.8174e-03, -2.4498e-02, -5.9899e-02, -1.2038e-01, -1.9312e-02,  3.3159e-01,  4.4296e-01,  4.4769e-01,  3.6452e-01,  2.3261e-01,  4.4678e-02,\n",
       "          2.4727e-01,  2.4753e-01,  2.8715e-01,  3.8341e-01,  4.3456e-01, -3.3949e-01, -2.1322e-01, -1.0868e-01, -3.7335e-02, -7.9084e-03, -8.2320e-04,  0.0000e+00,  0.0000e+00,  0.0000e+00],\n",
       "        [ 0.0000e+00, -3.2429e-04, -4.5414e-04, -9.7409e-03, -3.7895e-02,  2.8178e-01,  8.0304e-01,  7.3490e-01,  6.5449e-01,  3.0652e-01, -3.1122e-01, -4.8920e-01, -5.1338e-01, -5.4314e-01,\n",
       "         -5.4719e-01,  1.3328e-01,  3.4090e-01,  3.7103e-01,  3.8523e-01, -4.0753e-01, -2.7025e-01, -1.4412e-01, -5.3465e-02, -1.1405e-02, -1.0490e-03,  0.0000e+00,  0.0000e+00,  0.0000e+00],\n",
       "        [ 0.0000e+00, -1.2601e-04, -5.3985e-04, -1.1943e-02, -4.0899e-02,  3.4083e-01,  8.5773e-01,  7.9759e-01,  6.5122e-01, -1.0665e-01, -3.1693e-01, -3.1747e-01, -3.1133e-01, -3.2182e-01,\n",
       "         -3.6634e-01,  3.0088e-01,  4.5456e-01,  4.2148e-01,  8.5761e-02, -4.1737e-01, -2.7770e-01, -1.4791e-01, -5.6850e-02, -1.1186e-02, -5.6543e-04,  0.0000e+00,  0.0000e+00,  0.0000e+00],\n",
       "        [ 0.0000e+00, -1.3496e-04, -6.4603e-04, -9.1461e-03, -2.9371e-02, -4.3204e-02, -1.1050e-02, -4.1118e-02, -8.2909e-02, -1.5585e-01, -1.6174e-01, -1.6148e-01, -1.6958e-01, -2.0584e-01,\n",
       "         -1.2349e-01,  4.5972e-01,  4.6169e-01,  3.8632e-01, -2.2679e-01, -3.8845e-01, -2.4350e-01, -1.1984e-01, -4.4328e-02, -8.7073e-03, -1.1641e-04, -3.9657e-05,  0.0000e+00,  0.0000e+00],\n",
       "        [ 0.0000e+00, -6.7161e-05, -4.3047e-04, -6.7775e-03, -1.6751e-02, -2.9374e-02, -4.5093e-02, -5.7854e-02, -6.8061e-02, -7.8151e-02, -9.5189e-02, -1.2533e-01, -1.8025e-01, -2.7419e-01,\n",
       "          5.7379e-01,  4.5862e-01,  3.4705e-01, -1.0244e-01, -4.7979e-01, -3.2004e-01, -1.7885e-01, -7.7661e-02, -2.4957e-02, -4.6878e-03, -3.9657e-05, -1.1833e-04,  0.0000e+00,  0.0000e+00],\n",
       "        [ 0.0000e+00, -4.9251e-05, -3.7035e-04, -3.8589e-03, -8.8301e-03, -1.4541e-02, -2.0740e-02, -2.9064e-02, -4.4311e-02, -7.7774e-02, -1.3957e-01, -1.7820e-01,  4.0984e-02,  3.8579e-01,\n",
       "          3.8228e-01,  2.8562e-01, -1.9648e-01, -5.8363e-01, -4.1155e-01, -2.4346e-01, -1.1769e-01, -4.1552e-02, -1.0649e-02, -1.8121e-03, -9.5944e-06, -1.2857e-04,  0.0000e+00,  0.0000e+00],\n",
       "        [ 0.0000e+00, -8.3152e-06, -4.9891e-05, -1.5166e-03, -4.1403e-03, -8.1841e-03, -1.3161e-02, -2.7825e-02, -6.6674e-02, -1.0544e-01,  3.7335e-01,  5.0240e-01,  4.0856e-01,  2.8931e-01,\n",
       "          2.2066e-01, -4.3275e-02, -5.9397e-01, -5.6779e-01, -3.7920e-01, -2.1411e-01, -9.4611e-02, -3.1342e-02, -7.7146e-03, -1.0701e-03, -9.9782e-05, -1.3560e-04,  0.0000e+00,  0.0000e+00],\n",
       "        [ 0.0000e+00,  0.0000e+00,  0.0000e+00, -6.3963e-04, -2.5783e-03, -5.4042e-03, -1.4138e-02, -3.9151e-02, -1.0502e-01, -1.6365e-01,  5.7815e-01,  4.1466e-01,  2.9369e-01,  2.2497e-01,\n",
       "          2.1266e-01,  2.4135e-01,  2.1742e-01,  2.5263e-01,  2.5055e-03, -2.5765e-01, -1.2995e-01, -5.0904e-02, -1.3723e-02, -2.6148e-03, -3.2749e-04, -6.7161e-05,  0.0000e+00,  0.0000e+00],\n",
       "        [ 0.0000e+00, -1.0234e-04, -5.8206e-05, -6.9975e-04, -2.5758e-03, -6.5549e-03, -1.5612e-02, -4.5825e-02, -1.1788e-01, -2.4133e-01, -3.9015e-01, -3.5296e-01, -2.1834e-01, -2.4438e-01,\n",
       "          1.8811e-01,  3.7491e-01,  3.7905e-01,  3.9943e-01,  4.7672e-01,  3.6268e-01, -1.2452e-01, -9.5741e-02, -3.1867e-02, -7.1351e-03, -7.5860e-04, -2.6225e-05,  0.0000e+00,  0.0000e+00],\n",
       "        [ 0.0000e+00, -1.4456e-04, -7.1702e-04, -2.3385e-03, -6.0221e-03, -1.1625e-02, -1.9489e-02, -4.1298e-02, -9.1916e-02, -1.7655e-01, -2.7350e-01, -3.4554e-01, -3.7789e-01, -3.8353e-01,\n",
       "         -3.5299e-01, -2.1357e-01, -6.0592e-03,  4.4523e-01,  4.3521e-01,  5.3212e-01,  1.2486e-03, -1.4911e-01, -6.0777e-02, -1.5610e-02, -1.8025e-03, -3.1981e-06, -1.3368e-04,  0.0000e+00],\n",
       "        [ 0.0000e+00, -1.2729e-04, -2.1869e-03, -7.0538e-03, -1.4894e-02, -2.2301e-02, -2.7903e-02, -3.9338e-02, -6.2386e-02, -9.9441e-02, -1.3370e-01, -1.5925e-01, -1.6655e-01, -1.7223e-01,\n",
       "         -1.9161e-01, -2.4334e-01, -3.4062e-01,  2.3549e-01,  4.3115e-01,  4.8852e-01,  1.9305e-01, -1.9422e-01, -8.5188e-02, -2.6331e-02, -3.5276e-03, -1.2793e-06, -2.2387e-05,  0.0000e+00],\n",
       "        [ 0.0000e+00, -1.5735e-04, -3.3331e-03, -1.5257e-02, -3.1764e-02, -4.3270e-02, -4.9365e-02, -5.5510e-02, -5.9109e-02, -5.8848e-02, -6.1369e-02, -6.3137e-02, -6.5532e-02, -7.3339e-02,\n",
       "         -9.8233e-02, -1.6722e-01, -2.9171e-01,  2.6120e-01,  4.4182e-01,  4.7753e-01,  3.9084e-02, -2.1820e-01, -1.0305e-01, -3.3861e-02, -3.8557e-03,  0.0000e+00,  0.0000e+00,  0.0000e+00],\n",
       "        [ 0.0000e+00, -1.6183e-04, -5.7592e-03, -2.7754e-02, -5.8420e-02, -8.2884e-02, -9.7888e-02, -1.0189e-01, -9.3467e-02, -7.5450e-02, -6.1778e-02, -5.2316e-02, -4.8228e-02, -5.6958e-02,\n",
       "         -9.1961e-02, -1.8154e-01,  6.6285e-03,  4.9858e-01,  4.3616e-01,  4.8286e-01, -2.2319e-01, -2.2059e-01, -1.0743e-01, -3.3211e-02, -3.2410e-03,  0.0000e+00,  0.0000e+00,  0.0000e+00],\n",
       "        [ 0.0000e+00, -2.5521e-04, -9.1678e-03, -4.0289e-02, -8.8192e-02, -1.3721e-01, -1.6905e-01, -1.8232e-01, -1.7508e-01, -1.5029e-01, -1.2213e-01, -9.8687e-02, -9.3244e-02, -1.1323e-01,\n",
       "         -1.7340e-01, -4.8909e-02,  4.0845e-01,  4.4406e-01,  4.2163e-01,  1.9182e-01, -2.9473e-01, -2.0005e-01, -9.1660e-02, -2.4017e-02, -2.2828e-03, -1.3432e-05,  0.0000e+00,  0.0000e+00],\n",
       "        [ 0.0000e+00, -4.6565e-04, -1.0415e-02, -4.8182e-02, -1.0872e-01, -1.8070e-01, -2.4184e-01, -2.8666e-01, -3.0795e-01, -2.9331e-01, -2.6096e-01, -2.3568e-01, -2.3487e-01, -2.7473e-01,\n",
       "          2.7691e-02,  5.0206e-01,  4.1990e-01,  3.8080e-01,  3.2576e-01, -3.9259e-01, -2.7981e-01, -1.5136e-01, -6.0435e-02, -1.3841e-02, -1.2274e-03, -1.3432e-05, -4.9891e-05,  0.0000e+00],\n",
       "        [ 0.0000e+00, -3.6267e-04, -8.7373e-03, -4.1436e-02, -1.0026e-01, -1.8489e-01, -2.8464e-01, -3.7627e-01, -4.4899e-01, -4.7922e-01, -4.8200e-01, -4.7516e-01, -3.2371e-01,  5.6965e-02,\n",
       "          3.9496e-01,  3.4219e-01,  3.2950e-01,  3.1291e-01, -2.6664e-01, -3.2416e-01, -1.8824e-01, -8.8396e-02, -2.8767e-02, -5.4074e-03, -3.2621e-04,  0.0000e+00, -2.1108e-05,  0.0000e+00],\n",
       "        [ 0.0000e+00, -3.1342e-05, -6.0810e-03, -2.7270e-02, -7.3331e-02, -1.4404e-01, -8.7192e-02,  7.5923e-02, -3.3149e-01, -3.5953e-01, -2.0684e-01, -7.1398e-02,  2.2434e-01,  2.6375e-01,\n",
       "          2.6977e-01,  2.9832e-01,  9.5725e-02, -3.6142e-01, -3.1460e-01, -1.8711e-01, -9.4876e-02, -3.7261e-02, -1.0511e-02, -1.6490e-03, -3.5180e-05,  0.0000e+00, -3.1981e-06,  0.0000e+00],\n",
       "        [ 0.0000e+00,  0.0000e+00, -2.3519e-03, -1.2594e-02, -3.9571e-02, -8.3350e-02,  5.7661e-01,  7.3441e-01,  6.1806e-01,  5.0478e-01,  4.0935e-01,  3.4702e-01,  3.2860e-01,  3.4968e-01,\n",
       "          1.9891e-01, -1.3607e-01, -3.5329e-01, -2.3856e-01, -1.4426e-01, -7.5467e-02, -3.0740e-02, -9.7691e-03, -2.4229e-03, -3.6651e-04, -1.4839e-04, -7.6756e-06, -5.1810e-05,  0.0000e+00],\n",
       "        [ 0.0000e+00,  0.0000e+00, -5.4113e-04, -3.9555e-03, -1.3458e-02, -3.0013e-02,  3.4555e-01,  8.9429e-01,  8.4398e-01,  7.8813e-01,  7.3904e-01,  7.0413e-01,  6.1626e-01, -1.3560e-02,\n",
       "         -2.2647e-01, -1.7364e-01, -1.1796e-01, -7.1760e-02, -3.6760e-02, -1.6373e-02, -5.7541e-03, -2.0769e-03, -6.1021e-04, -1.2153e-04,  0.0000e+00,  0.0000e+00,  0.0000e+00,  0.0000e+00],\n",
       "        [ 0.0000e+00,  0.0000e+00, -3.7099e-05, -1.2473e-04, -1.2447e-03, -3.0402e-03, -6.6873e-03, -1.1371e-02, -1.8533e-02, -2.5284e-02, -3.1993e-02, -3.5295e-02, -3.6504e-02, -3.4298e-02,\n",
       "         -2.8593e-02, -2.1875e-02, -1.5417e-02, -9.1748e-03, -5.0454e-03, -2.8687e-03, -1.1430e-03, -4.5350e-04, -2.1683e-04,  0.0000e+00,  0.0000e+00,  0.0000e+00,  0.0000e+00,  0.0000e+00],\n",
       "        [ 0.0000e+00,  0.0000e+00,  0.0000e+00,  0.0000e+00, -1.0234e-05, -8.0593e-05, -1.6630e-04, -3.6459e-04, -4.0041e-04, -5.1362e-04, -7.4325e-04, -9.5497e-04, -1.0643e-03, -1.3560e-03,\n",
       "         -1.0484e-03, -8.3855e-04, -1.0260e-03, -9.5497e-04, -7.4645e-04, -5.3793e-04, -3.6523e-04, -1.9637e-04, -2.8783e-05,  0.0000e+00,  0.0000e+00,  0.0000e+00,  0.0000e+00,  0.0000e+00],\n",
       "        [ 0.0000e+00,  0.0000e+00,  0.0000e+00,  0.0000e+00,  0.0000e+00,  0.0000e+00,  0.0000e+00,  0.0000e+00,  0.0000e+00,  0.0000e+00,  0.0000e+00,  0.0000e+00,  0.0000e+00,  0.0000e+00,\n",
       "          0.0000e+00,  0.0000e+00,  0.0000e+00,  0.0000e+00,  0.0000e+00,  0.0000e+00,  0.0000e+00,  0.0000e+00,  0.0000e+00,  0.0000e+00,  0.0000e+00,  0.0000e+00,  0.0000e+00,  0.0000e+00]])"
      ]
     },
     "execution_count": 39,
     "metadata": {},
     "output_type": "execute_result"
    }
   ],
   "execution_count": 39
  },
  {
   "metadata": {
    "ExecuteTime": {
     "end_time": "2025-06-28T02:05:19.921324Z",
     "start_time": "2025-06-28T02:05:19.919513Z"
    }
   },
   "cell_type": "code",
   "source": "[1,2,3]+[1]    # 加可以，减不行",
   "id": "55c5d9ff836c818",
   "outputs": [
    {
     "data": {
      "text/plain": [
       "[1, 2, 3, 1]"
      ]
     },
     "execution_count": 40,
     "metadata": {},
     "output_type": "execute_result"
    }
   ],
   "execution_count": 40
  },
  {
   "metadata": {
    "ExecuteTime": {
     "end_time": "2025-06-28T02:05:20.156848Z",
     "start_time": "2025-06-28T02:05:20.154668Z"
    }
   },
   "cell_type": "code",
   "source": "tensor([1,2,3])+tensor([1])",
   "id": "66f868faae8c68df",
   "outputs": [
    {
     "data": {
      "text/plain": [
       "tensor([2, 3, 4])"
      ]
     },
     "execution_count": 41,
     "metadata": {},
     "output_type": "execute_result"
    }
   ],
   "execution_count": 41
  },
  {
   "metadata": {
    "ExecuteTime": {
     "end_time": "2025-06-28T02:05:20.581909Z",
     "start_time": "2025-06-28T02:05:20.579477Z"
    }
   },
   "cell_type": "code",
   "source": "(valid_3_tens-mean3).shape",
   "id": "86ca5de446075f8c",
   "outputs": [
    {
     "data": {
      "text/plain": [
       "torch.Size([1010, 28, 28])"
      ]
     },
     "execution_count": 42,
     "metadata": {},
     "output_type": "execute_result"
    }
   ],
   "execution_count": 42
  },
  {
   "metadata": {
    "ExecuteTime": {
     "end_time": "2025-06-28T02:05:20.801971Z",
     "start_time": "2025-06-28T02:05:20.800617Z"
    }
   },
   "cell_type": "code",
   "source": "def is_3(x): return mnist_distance(x,mean3) < mnist_distance(x,mean7)",
   "id": "b3d43b54c103eb63",
   "outputs": [],
   "execution_count": 43
  },
  {
   "metadata": {
    "ExecuteTime": {
     "end_time": "2025-06-28T02:05:21.014646Z",
     "start_time": "2025-06-28T02:05:21.012498Z"
    }
   },
   "cell_type": "code",
   "source": "is_3(a_3), is_3(a_3).float()",
   "id": "5ddf19d06a71f72",
   "outputs": [
    {
     "data": {
      "text/plain": [
       "(tensor(True), tensor(1.))"
      ]
     },
     "execution_count": 44,
     "metadata": {},
     "output_type": "execute_result"
    }
   ],
   "execution_count": 44
  },
  {
   "metadata": {},
   "cell_type": "markdown",
   "source": [
    "看起来很不错，我们的验证集3的精确度达到0.9168,7达到0.9854 ，平均值有 0.9511\n",
    "\n",
    "#### 而且我们学会了如何使用广播来更方便/快速的计算指标 metric"
   ],
   "id": "5891de1dd0506082"
  },
  {
   "metadata": {
    "ExecuteTime": {
     "end_time": "2025-06-28T02:05:21.233251Z",
     "start_time": "2025-06-28T02:05:21.228890Z"
    }
   },
   "cell_type": "code",
   "source": [
    "accuracy_3s = is_3(valid_3_tens).float().mean()\n",
    "accuracy_7s = (1-is_3(valid_7_tens).float()).mean()\n",
    "accuracy_3s , accuracy_7s,(accuracy_3s+accuracy_7s)/2"
   ],
   "id": "2cf180fe306c2834",
   "outputs": [
    {
     "data": {
      "text/plain": [
       "(tensor(0.9168), tensor(0.9854), tensor(0.9511))"
      ]
     },
     "execution_count": 45,
     "metadata": {},
     "output_type": "execute_result"
    }
   ],
   "execution_count": 45
  },
  {
   "metadata": {},
   "cell_type": "markdown",
   "source": [
    "(接下来，让我们优化，自助修改以提升性能，让我们讨论训练过程以及SGD\n",
    "\n",
    "# Stochastic Gradient Descent(SGD\n",
    "\n",
    "在上面的公式，我们用到权重，也就无法自动更新优化，接下来我们需要一些赋值权重。\n",
    "def pr_eight(x,w): return (x*w).sum() 假设有这么一个公式，x是图片，w是权重。\n",
    "\n",
    "更准确的，我们要做的：\n",
    "1. 初始化权重\n",
    "2. 对于每个图片，使用权重预测它是3或7\n",
    "3. 基于这些预测，计算模型的好坏(its loss)\n",
    "4. 计算梯度，也就是权重变化改变损失的衡量\n",
    "5. step,根据计算结果改变权重，\n",
    "6. 回到步骤2，重复\n",
    "7. 迭代直到你决定停止训练过程（比如，模型足够好了，或者你不想浪费时间了）"
   ],
   "id": "16cb26d99cf99791"
  },
  {
   "metadata": {},
   "cell_type": "markdown",
   "source": "<img src=\"array.png\" width=\"280\" height=\"auto\" alt=\"数组图片\">",
   "id": "fc8bf556bc1f5ac9"
  },
  {
   "metadata": {
    "ExecuteTime": {
     "end_time": "2025-06-28T02:05:21.452038Z",
     "start_time": "2025-06-28T02:05:21.450760Z"
    }
   },
   "cell_type": "code",
   "source": "def f(x): return x**2\n",
   "id": "22ae28cbbdc43957",
   "outputs": [],
   "execution_count": 46
  },
  {
   "metadata": {
    "ExecuteTime": {
     "end_time": "2025-06-28T02:05:21.700414Z",
     "start_time": "2025-06-28T02:05:21.666639Z"
    }
   },
   "cell_type": "code",
   "source": "plot_function(f,'x','x**2')",
   "id": "42db560f9e507947",
   "outputs": [
    {
     "data": {
      "text/plain": [
       "<Figure size 600x400 with 1 Axes>"
      ],
      "image/png": "[encoded data removed]"
     },
     "metadata": {},
     "output_type": "display_data"
    }
   ],
   "execution_count": 47
  },
  {
   "metadata": {
    "ExecuteTime": {
     "end_time": "2025-06-28T02:05:21.961947Z",
     "start_time": "2025-06-28T02:05:21.920617Z"
    }
   },
   "cell_type": "code",
   "source": [
    "plot_function(f,'f','f**2')\n",
    "plt.scatter(-1.5, f(-1.5), color='red')"
   ],
   "id": "662a7eed3de488b6",
   "outputs": [
    {
     "data": {
      "text/plain": [
       "<matplotlib.collections.PathCollection at 0x1481a0920>"
      ]
     },
     "execution_count": 48,
     "metadata": {},
     "output_type": "execute_result"
    },
    {
     "data": {
      "text/plain": [
       "<Figure size 600x400 with 1 Axes>"
      ],
      "image/png": "[encoded data removed]"
     },
     "metadata": {},
     "output_type": "display_data"
    }
   ],
   "execution_count": 48
  },
  {
   "metadata": {},
   "cell_type": "markdown",
   "source": [
    "## Calsulating Gradients\n",
    "函数的导数表示参数变化会导致结果变化的幅度\n",
    "当然在PyTorch里面也有能自动计算任何函数的导数\n"
   ],
   "id": "ed2d3cb08533f77f"
  },
  {
   "metadata": {},
   "cell_type": "markdown",
   "source": "关键的一步在于我们计算梯度的环节。正如我们提到的，我们将微积分用作一种性能优化手段；它让我们能够更快速地判断，当我们上调或下调参数时，损失（loss）会如何变化。换句话说，梯度会告诉我们，为了让模型表现更优，每个权重需要改变多少。基于梯度调整参数值是机器学习的重要组成部份，几乎所有方法都始于将梯度乘以某个小数的基本思想，这个小数称为学习率（LR）。学习率通常是 0.001 到 0.1 之间的数字，尽管它可以是任何数字\n",
   "id": "426eb027b20801c9"
  },
  {
   "metadata": {},
   "cell_type": "markdown",
   "source": "关于导数，关键要点是这样的：对于任意函数，比如我们在前一部分看到的二次函数，我们都能计算它的导数。导数本身也是一个函数。它计算的是变化量，而非函数值。例如，二次函数在取值为 3 处的导数，会告诉我们函数在值为 3 时的变化速率有多快。更具体地说，你可能记得梯度的定义是 “上升量 / 移动量”，也就是函数值的变化量除以参数值的变化量。<font color=Blue>**当我们知道函数会如何变化时，我们就知道需要做些什么来让它（函数值，这里指损失等）变小。这就是机器学习的关键：有一种改变函数参数以使函数值变小的方法。微积分为我们提供了一个计算捷径，也就是导数，它让我们可以直接计算函数的梯度。**</font>",
   "id": "9b271747fd70dba7"
  },
  {
   "metadata": {
    "ExecuteTime": {
     "end_time": "2025-06-28T02:05:22.188190Z",
     "start_time": "2025-06-28T02:05:22.185579Z"
    }
   },
   "cell_type": "code",
   "source": [
    "xt = tensor(3.).requires_grad_()\n",
    "yt=f(xt)\n",
    "yt"
   ],
   "id": "d2cf9e4007e20b94",
   "outputs": [
    {
     "data": {
      "text/plain": [
       "tensor(9., grad_fn=<PowBackward0>)"
      ]
     },
     "execution_count": 49,
     "metadata": {},
     "output_type": "execute_result"
    }
   ],
   "execution_count": 49
  },
  {
   "metadata": {},
   "cell_type": "markdown",
   "source": "不支持浮点运算，梯度计算可能出错",
   "id": "c464c3e755b9a02b"
  },
  {
   "metadata": {
    "ExecuteTime": {
     "end_time": "2025-06-28T02:05:22.407559Z",
     "start_time": "2025-06-28T02:05:22.406226Z"
    }
   },
   "cell_type": "code",
   "source": "xt.grad",
   "id": "4c7e7db8f8d78978",
   "outputs": [],
   "execution_count": 50
  },
  {
   "metadata": {
    "ExecuteTime": {
     "end_time": "2025-06-28T02:05:22.624020Z",
     "start_time": "2025-06-28T02:05:22.622556Z"
    }
   },
   "cell_type": "code",
   "source": "xt = tensor([3.,4.,10.], requires_grad=True)",
   "id": "e814fc2b9e2a6312",
   "outputs": [],
   "execution_count": 51
  },
  {
   "metadata": {
    "ExecuteTime": {
     "end_time": "2025-06-28T02:05:22.839892Z",
     "start_time": "2025-06-28T02:05:22.837050Z"
    }
   },
   "cell_type": "code",
   "source": [
    "def f(x): return (x**2).sum()\n",
    "yt=f(xt)\n",
    "yt"
   ],
   "id": "8a605dfc4c3bfee3",
   "outputs": [
    {
     "data": {
      "text/plain": [
       "tensor(125., grad_fn=<SumBackward0>)"
      ]
     },
     "execution_count": 52,
     "metadata": {},
     "output_type": "execute_result"
    }
   ],
   "execution_count": 52
  },
  {
   "metadata": {
    "ExecuteTime": {
     "end_time": "2025-06-28T02:05:23.078322Z",
     "start_time": "2025-06-28T02:05:23.060054Z"
    }
   },
   "cell_type": "code",
   "source": [
    "yt.backward()\n",
    "xt.grad"
   ],
   "id": "ba627a9bc93a56f4",
   "outputs": [
    {
     "data": {
      "text/plain": [
       "tensor([ 6.,  8., 20.])"
      ]
     },
     "execution_count": 53,
     "metadata": {},
     "output_type": "execute_result"
    }
   ],
   "execution_count": 53
  },
  {
   "metadata": {},
   "cell_type": "markdown",
   "source": "梯度告诉我们函数的坡度，但是不能告诉我们如何调整参数。如果slope非常大，我们需要调整多，坡度小，我们调整的少",
   "id": "85d38675fade489c"
  },
  {
   "metadata": {},
   "cell_type": "markdown",
   "source": [
    "### Stepping with a learning rate\n",
    "\n",
    "基于梯度值改变参数值，是深度学习重要的部分。有公式如下： w -= gradient(w) * lr\n",
    "\n",
    "这被称为通过优化器步骤来更新参数。请注意，我们从参数中减去梯度乘以学习率（gradient * lr）来更新它。这使我们能够根据斜率的方向调整参数：当斜率为负时增加参数，当斜率为正时减少参数。我们希望沿着斜率的方向调整参数，因为深度学习的目标是最小化损失。\n",
    "\n",
    "### An End-to-End SGD Example"
   ],
   "id": "85f703c7c2e6905"
  },
  {
   "metadata": {
    "ExecuteTime": {
     "end_time": "2025-06-28T02:05:23.731072Z",
     "start_time": "2025-06-28T02:05:23.729594Z"
    }
   },
   "cell_type": "code",
   "source": "time = torch.arange(0,20).float()  # 创建0-20的浮点型张量",
   "id": "d19103a240ac8a29",
   "outputs": [],
   "execution_count": 56
  },
  {
   "metadata": {
    "ExecuteTime": {
     "end_time": "2025-06-28T02:05:23.979053Z",
     "start_time": "2025-06-28T02:05:23.945540Z"
    }
   },
   "cell_type": "code",
   "source": [
    "speed = torch.randn(20)*3 + 0.75*(time-9.5)**2 +1\n",
    "plt.scatter(time, speed)"
   ],
   "id": "d99443c4ea41528e",
   "outputs": [
    {
     "data": {
      "text/plain": [
       "<matplotlib.collections.PathCollection at 0x1481cba40>"
      ]
     },
     "execution_count": 57,
     "metadata": {},
     "output_type": "execute_result"
    },
    {
     "data": {
      "text/plain": [
       "<Figure size 640x480 with 1 Axes>"
      ],
      "image/png": "[encoded data removed]"
     },
     "metadata": {},
     "output_type": "display_data"
    }
   ],
   "execution_count": 57
  },
  {
   "metadata": {},
   "cell_type": "markdown",
   "source": [
    "1. 添加随机噪声：\n",
    "- torch.randn(20)*3 会将标准正态分布的随机数放大 3 倍（均值变为 0，标准差变为 3），作为数据中的 “噪声”。\n",
    "- 这模拟了真实场景中测量误差或不可控因素的影响（如手动测量过山车速度时的精度不足）。\n",
    "2. 构造模拟数据：\n",
    "- 完整公式 0.75*(time-9.5)² + 1 是二次函数主体（对应前文提到的二次函数假设），表示过山车速度的 “理论值”。\n",
    "- 加上噪声后，speed 成为带噪声的观测数据，用于后续用 SGD 拟合函数。"
   ],
   "id": "1b92438eafed14cc"
  },
  {
   "metadata": {
    "ExecuteTime": {
     "end_time": "2025-06-28T02:05:23.299625Z",
     "start_time": "2025-06-28T02:05:23.298354Z"
    }
   },
   "cell_type": "code",
   "outputs": [],
   "execution_count": 54,
   "source": [
    "def f(t,params):\n",
    "    a,b,c = params\n",
    "    return a*(t**2) + (b*t) +c"
   ],
   "id": "f6f04487a78d293a"
  },
  {
   "metadata": {},
   "cell_type": "markdown",
   "source": "我们需要首先定义 “最优” 的含义。这可以通过选择一个损失函数来精确界定：损失函数会根据预测值和目标值返回一个值，函数值越低表示预测 “越好”。当预测越准确时，损失函数返回的值越低，这一点很重要，因为我们之前定义的随机梯度下降（SGD）过程会尝试最小化这个损失。对于连续数据，常用的损失函数是均方误差（MSE）：",
   "id": "a6e40c641463ccef"
  },
  {
   "metadata": {
    "ExecuteTime": {
     "end_time": "2025-06-28T02:05:23.516060Z",
     "start_time": "2025-06-28T02:05:23.514617Z"
    }
   },
   "cell_type": "code",
   "outputs": [],
   "execution_count": 55,
   "source": "def mse(preds, targets): return ((preds - targets)**2).mean()",
   "id": "f966af52fe184938"
  },
  {
   "metadata": {},
   "cell_type": "markdown",
   "source": [
    "聚焦参数而非函数\n",
    "在 PyTorch 中，梯度计算的核心流程是：\n",
    "① 标记参数（如 x.requires_grad_()）；\n",
    "② 计算函数值（如 y = f(x)）；\n",
    "③ 反向传播得到参数在该点的梯度值（如 x.grad）。\n",
    "与数学的差异：数学中求导的对象是函数（如 f'(x)），而 PyTorch 中求导的对象是参数的具体取值（如 “x=3 时的梯度”）。"
   ],
   "id": "2bc02f0fa0f522ba"
  },
  {
   "metadata": {},
   "cell_type": "markdown",
   "source": [
    "### 7步走开始\n",
    "### Step 1: Initialize the parameters"
   ],
   "id": "6d4ab2881598350e"
  },
  {
   "metadata": {
    "ExecuteTime": {
     "end_time": "2025-06-28T02:05:24.203061Z",
     "start_time": "2025-06-28T02:05:24.201311Z"
    }
   },
   "cell_type": "code",
   "source": "params = torch.randn(3).requires_grad_()",
   "id": "3931ce169094ae86",
   "outputs": [],
   "execution_count": 58
  },
  {
   "metadata": {
    "ExecuteTime": {
     "end_time": "2025-06-28T02:05:24.418311Z",
     "start_time": "2025-06-28T02:05:24.416760Z"
    }
   },
   "cell_type": "code",
   "source": [
    "# hide\n",
    "orig_params = params.clone()"
   ],
   "id": "add5ad3d3c4b0737",
   "outputs": [],
   "execution_count": 59
  },
  {
   "metadata": {},
   "cell_type": "markdown",
   "source": "## Step 2 : Calculate the predictions",
   "id": "d193eeeeef2491ff"
  },
  {
   "metadata": {
    "ExecuteTime": {
     "end_time": "2025-06-28T02:05:24.633950Z",
     "start_time": "2025-06-28T02:05:24.632330Z"
    }
   },
   "cell_type": "code",
   "source": "preds = f(time,params)",
   "id": "277f0ab7ea67f58",
   "outputs": [],
   "execution_count": 60
  },
  {
   "metadata": {
    "ExecuteTime": {
     "end_time": "2025-06-28T02:08:06.697390Z",
     "start_time": "2025-06-28T02:08:06.693198Z"
    }
   },
   "cell_type": "code",
   "source": [
    "def show_preds(preds,ax=None):\n",
    "    if ax is None: ax = plt.subplot()\n",
    "    ax.scatter(time, speed)\n",
    "    ax.scatter(time, to_np(preds), color='red')\n",
    "    ax.set_ylim(-300,100)"
   ],
   "id": "f0284a5aa452b10a",
   "outputs": [],
   "execution_count": 63
  },
  {
   "metadata": {
    "ExecuteTime": {
     "end_time": "2025-06-28T02:08:07.497236Z",
     "start_time": "2025-06-28T02:08:07.457035Z"
    }
   },
   "cell_type": "code",
   "source": "show_preds(preds)",
   "id": "310a0514885ba7bb",
   "outputs": [
    {
     "data": {
      "text/plain": [
       "<Figure size 640x480 with 1 Axes>"
      ],
      "image/png": "[encoded data removed]"
     },
     "metadata": {},
     "output_type": "display_data"
    }
   ],
   "execution_count": 64
  },
  {
   "metadata": {},
   "cell_type": "markdown",
   "source": "### Calculate the loss",
   "id": "f8a30d971193b482"
  },
  {
   "metadata": {
    "ExecuteTime": {
     "end_time": "2025-06-28T02:14:08.781120Z",
     "start_time": "2025-06-28T02:14:08.771097Z"
    }
   },
   "cell_type": "code",
   "source": [
    "loss = mse(preds, speed)\n",
    "loss"
   ],
   "id": "d626e3e928c8fee4",
   "outputs": [
    {
     "data": {
      "text/plain": [
       "tensor(25823.8086, grad_fn=<MeanBackward0>)"
      ]
     },
     "execution_count": 65,
     "metadata": {},
     "output_type": "execute_result"
    }
   ],
   "execution_count": 65
  },
  {
   "metadata": {},
   "cell_type": "markdown",
   "source": [
    "Our goal is now to improve this. To do that, we'll need to know the gradients\n",
    "\n",
    "### Step 4: Calculate the gradients\n",
    "\n",
    "下一步是计算梯度。换句话说，计算参数如何改变的近似"
   ],
   "id": "6e1c77d7bf2b2fb8"
  },
  {
   "metadata": {
    "ExecuteTime": {
     "end_time": "2025-06-28T02:14:51.683210Z",
     "start_time": "2025-06-28T02:14:51.679383Z"
    }
   },
   "cell_type": "code",
   "source": [
    "loss.backward()\n",
    "params.grad"
   ],
   "id": "588b2b7c3668b237",
   "outputs": [
    {
     "data": {
      "text/plain": [
       "tensor([-53195.8594,  -3419.7146,   -253.8908])"
      ]
     },
     "execution_count": 66,
     "metadata": {},
     "output_type": "execute_result"
    }
   ],
   "execution_count": 66
  },
  {
   "metadata": {
    "ExecuteTime": {
     "end_time": "2025-06-28T02:16:38.318832Z",
     "start_time": "2025-06-28T02:16:38.314202Z"
    }
   },
   "cell_type": "code",
   "source": "params.grad * 1e-5",
   "id": "8a3caf8e8ef7ceb9",
   "outputs": [
    {
     "data": {
      "text/plain": [
       "tensor([-0.5320, -0.0342, -0.0025])"
      ]
     },
     "execution_count": 68,
     "metadata": {},
     "output_type": "execute_result"
    }
   ],
   "execution_count": 68
  },
  {
   "metadata": {},
   "cell_type": "markdown",
   "source": "我们使用这些梯度提升我们的参数，我们需要选择一个学习率，假设是1e-5 , 0.00001",
   "id": "ffe78dff755153e3"
  },
  {
   "metadata": {
    "ExecuteTime": {
     "end_time": "2025-06-28T02:18:23.833027Z",
     "start_time": "2025-06-28T02:18:23.829825Z"
    }
   },
   "cell_type": "code",
   "source": "params",
   "id": "3f2c9f41d533993d",
   "outputs": [
    {
     "data": {
      "text/plain": [
       "tensor([-0.7658, -0.7506,  1.3525], requires_grad=True)"
      ]
     },
     "execution_count": 70,
     "metadata": {},
     "output_type": "execute_result"
    }
   ],
   "execution_count": 70
  },
  {
   "metadata": {},
   "cell_type": "markdown",
   "source": [
    "### Step 5: Step the weights\n",
    "Now we need to update the parameters based on the gradients we just calculated:"
   ],
   "id": "9f16eb8a19a9932e"
  },
  {
   "metadata": {
    "ExecuteTime": {
     "end_time": "2025-06-28T02:22:32.052531Z",
     "start_time": "2025-06-28T02:22:32.047324Z"
    }
   },
   "cell_type": "code",
   "source": [
    "lr = 1e-5\n",
    "params.data -= lr * params.grad.data\n",
    "params.grad = None"
   ],
   "id": "6af9497d7c0d6a44",
   "outputs": [],
   "execution_count": 71
  },
  {
   "metadata": {},
   "cell_type": "markdown",
   "source": [
    "理解这点基于记住最近的历史。计算梯度我们在损失上调用backward。但是这个损失本身被mse 计算，采取pres 作为输入，作为f的参数计算，也就是我们开始乘坐requires_grad_。初始的时候，我们调用backward在损失上。\n",
    "\n",
    "let's see if the loss has improved"
   ],
   "id": "35e4d0fff3c07243"
  },
  {
   "metadata": {
    "ExecuteTime": {
     "end_time": "2025-06-28T02:38:16.274338Z",
     "start_time": "2025-06-28T02:38:16.266571Z"
    }
   },
   "cell_type": "code",
   "source": [
    "preds = f(time,params)\n",
    "mse(preds, speed)"
   ],
   "id": "51f2ef878f9f7343",
   "outputs": [
    {
     "data": {
      "text/plain": [
       "tensor(5435.5371, grad_fn=<MeanBackward0>)"
      ]
     },
     "execution_count": 72,
     "metadata": {},
     "output_type": "execute_result"
    }
   ],
   "execution_count": 72
  },
  {
   "metadata": {
    "ExecuteTime": {
     "end_time": "2025-06-28T02:38:36.249970Z",
     "start_time": "2025-06-28T02:38:36.211172Z"
    }
   },
   "cell_type": "code",
   "source": "show_preds(preds)",
   "id": "4e534bd2892ba578",
   "outputs": [
    {
     "data": {
      "text/plain": [
       "<Figure size 640x480 with 1 Axes>"
      ],
      "image/png": "[encoded data removed]"
     },
     "metadata": {},
     "output_type": "display_data"
    }
   ],
   "execution_count": 74
  },
  {
   "metadata": {
    "ExecuteTime": {
     "end_time": "2025-06-28T02:43:48.576586Z",
     "start_time": "2025-06-28T02:43:48.571757Z"
    }
   },
   "cell_type": "code",
   "source": [
    "# 重复上述过程\n",
    "def apply_step(params, prn=True):\n",
    "    preds = f(time,params)\n",
    "    loss=mse(preds, speed)\n",
    "    loss.backward()\n",
    "    params.data -= lr * params.grad.data\n",
    "    params.grad = None\n",
    "    if prn: print(loss.item())\n",
    "    return preds"
   ],
   "id": "547de4ea98cabf6f",
   "outputs": [],
   "execution_count": 75
  },
  {
   "metadata": {},
   "cell_type": "markdown",
   "source": [
    "### Step 6: Repeat the process\n",
    "\n",
    "接下来我们迭代。通过循环和实施许多提升，我们希望获得一个好的结果"
   ],
   "id": "743bb1152704adeb"
  },
  {
   "metadata": {
    "ExecuteTime": {
     "end_time": "2025-06-28T02:47:12.886504Z",
     "start_time": "2025-06-28T02:47:12.879039Z"
    }
   },
   "cell_type": "code",
   "source": "for i in range(10): apply_step(params)",
   "id": "30870d00ccd22b10",
   "outputs": [
    {
     "name": "stdout",
     "output_type": "stream",
     "text": [
      "5435.537109375\n",
      "1577.449462890625\n",
      "847.3779296875\n",
      "709.2225952148438\n",
      "683.0758056640625\n",
      "678.1244506835938\n",
      "677.1838989257812\n",
      "677.0023193359375\n",
      "676.9644775390625\n",
      "676.9537353515625\n"
     ]
    }
   ],
   "execution_count": 76
  },
  {
   "metadata": {
    "ExecuteTime": {
     "end_time": "2025-06-28T06:40:27.887532Z",
     "start_time": "2025-06-28T06:40:27.878176Z"
    }
   },
   "cell_type": "code",
   "source": [
    "# hide\n",
    "params = orig_params.detach().requires_grad_() #创建一个与原张量共享数据但独立于计算图的新张量，并重新启用梯度计算。"
   ],
   "id": "e36ac089bde74ccc",
   "outputs": [],
   "execution_count": 77
  },
  {
   "metadata": {},
   "cell_type": "markdown",
   "source": [
    "1. 迭代的本质\n",
    "- 每次 SGD 迭代都会更新参数（a、b、c），从而生成一个新的二次函数 f(t) = a·t² + b·t + c。\n",
    "- 损失下降的过程，本质是函数形状从 “随机初始状态” 逐步调整到 “贴合数据分布” 的过程。\n",
    "2. 可视化的意义\n",
    "- 损失数值只能体现 “优化程度”，而函数图像能直观展示 “拟合效果”：\n",
    "  - 初始阶段：函数可能与真实数据（带噪声的二次曲线）差异很大；\n",
    "  - 迭代后期：函数曲线逐渐贴近数据点，体现参数优化的实际效果。\n",
    "3. 从数值到图像的认知升级\n",
    "- 当处理神经网络等复杂模型时，可视化（如特征图、损失曲线）是理解模型行为的关键工具，能帮助发现过拟合、欠拟合等问题。"
   ],
   "id": "313560bd15f7e5bc"
  },
  {
   "metadata": {
    "ExecuteTime": {
     "end_time": "2025-06-28T08:37:28.472477Z",
     "start_time": "2025-06-28T08:37:28.375764Z"
    }
   },
   "cell_type": "code",
   "source": [
    "_, axs = plt.subplots(1,4,figsize=(12,3))\n",
    "for ax in axs: show_preds(apply_step(params,False),ax)\n",
    "plt.tight_layout()"
   ],
   "id": "c4c469fd8c07e95c",
   "outputs": [
    {
     "data": {
      "text/plain": [
       "<Figure size 1200x300 with 4 Axes>"
      ],
      "image/png": "[encoded data removed]"
     },
     "metadata": {},
     "output_type": "display_data"
    }
   ],
   "execution_count": 81
  },
  {
   "metadata": {},
   "cell_type": "markdown",
   "source": [
    "### Step 7: stop\n",
    "我们随意决定在10个回合后结束。实际上，需要训练和验证损失以及我们的指标决定什么时候停止。"
   ],
   "id": "9636d7a66659e34a"
  },
  {
   "metadata": {},
   "cell_type": "markdown",
   "source": "<img src=\"sevenStep.png\" width=\"5800\" height=\"auto\" alt=\"7步图片\">",
   "id": "433a3c58165d422a"
  },
  {
   "metadata": {},
   "cell_type": "markdown",
   "source": "换种表达，1 初始化参数，2 定义模型和损失函数 3 前向传播计算损失 4 反向传播计算梯度 5 梯度下降更新参数 6 迭代至收敛",
   "id": "4b0e6f828580b07"
  },
  {
   "metadata": {},
   "cell_type": "markdown",
   "source": [
    "1. 权重初始化策略\n",
    "- 随机初始化：适用于无先验知识的场景，但初期预测可能完全随机；\n",
    "- 迁移学习：利用预训练模型的权重作为起点，适用于目标任务数据量少或与预训练任务相关的场景。\n",
    "2. 损失函数的核心作用\n",
    "- 作为 “优化指南针”，将预测误差量化为可计算的数值，指导权重更新方向。\n",
    "3. 梯度下降的类比本质\n",
    "- 梯度：指示损失增长最快的方向（上坡方向），因此参数更新沿梯度反方向（下坡）；\n",
    "- 学习率：控制步长，过大易震荡，过小收敛慢，需根据任务调整。"
   ],
   "id": "e9382e490df4005b"
  },
  {
   "metadata": {},
   "cell_type": "markdown",
   "source": [
    "## The MNIST Loss Function\n",
    "\n",
    "我们已经有了自变量 x—— 即图像本身。我们需要将这些图像拼接成一个单独的张量，并将它们从矩阵列表（三维张量）转换为向量列表（二维张量）。这可以通过 PyTorch 的view方法实现，该方法能在不改变张量内容的前提下调整其形状。其中，-1是view的一个特殊参数，表示 “让这个维度的大小自动适应，以容纳所有数据”："
   ],
   "id": "82b742c25d4a0135"
  },
  {
   "metadata": {
    "ExecuteTime": {
     "end_time": "2025-06-28T08:48:12.061030Z",
     "start_time": "2025-06-28T08:48:12.040906Z"
    }
   },
   "cell_type": "code",
   "source": [
    "# 训练集：拼接3和7的图像，展平为向量，并创建对应的标签（3→1，7→0）\n",
    "train_x = torch.cat([stacked_threes, stacked_sevens]).view(-1, 28*28)"
   ],
   "id": "a9726f4148b81888",
   "outputs": [],
   "execution_count": 83
  },
  {
   "metadata": {},
   "cell_type": "markdown",
   "source": "我们需要给每张图片一个标签。我们使用1 for 3s and 0 for 7s",
   "id": "bb6efa7ba34bc06e"
  },
  {
   "metadata": {
    "ExecuteTime": {
     "end_time": "2025-06-28T08:48:36.275672Z",
     "start_time": "2025-06-28T08:48:36.268758Z"
    }
   },
   "cell_type": "code",
   "source": [
    "train_y = tensor([1]*len(threes) + [0]*len(sevens)).unsqueeze(1)\n",
    "train_x.shape, train_y.shape"
   ],
   "id": "6ea8df158e728cb2",
   "outputs": [
    {
     "data": {
      "text/plain": [
       "(torch.Size([12396, 784]), torch.Size([12396, 1]))"
      ]
     },
     "execution_count": 84,
     "metadata": {},
     "output_type": "execute_result"
    }
   ],
   "execution_count": 84
  },
  {
   "metadata": {},
   "cell_type": "markdown",
   "source": "在 PyTorch 中，数据集（Dataset）被要求在索引访问时返回一个包含 (x, y) 的元组。Python 提供了zip函数，当与list结合使用时，能以简单的方式实现这",
   "id": "d9ded86a7dbbc268"
  },
  {
   "metadata": {
    "ExecuteTime": {
     "end_time": "2025-06-28T09:04:36.786475Z",
     "start_time": "2025-06-28T09:04:36.753227Z"
    }
   },
   "cell_type": "code",
   "source": [
    "dset = list(zip(train_x, train_y))\n",
    "x,y = dset[0]\n",
    "x.shape, y"
   ],
   "id": "d1fc5dc6a225a3d7",
   "outputs": [
    {
     "data": {
      "text/plain": [
       "(torch.Size([784]), tensor([1]))"
      ]
     },
     "execution_count": 85,
     "metadata": {},
     "output_type": "execute_result"
    }
   ],
   "execution_count": 85
  },
  {
   "metadata": {
    "ExecuteTime": {
     "end_time": "2025-06-28T09:15:21.304170Z",
     "start_time": "2025-06-28T09:15:21.295095Z"
    }
   },
   "cell_type": "code",
   "source": [
    "# 验证集：同理\n",
    "valid_x = torch.cat([valid_3_tens, valid_7_tens]).view(-1, 28*28) #沿第一个维度拼接两个张量 valid_3_tens 和 valid_7_tens\n",
    "valid_y = tensor([1]*len(valid_3_tens) + [0]*len(valid_7_tens)).unsqueeze(1) #数字 3 的标签全为 1（正类）；数字 7 的标签全为 0（负类\n",
    "valid_dset = list(zip(valid_x, valid_y)) # 将输入数据 valid_x 和标签 valid_y 按顺序打包成元组 (x_i, y_i)。"
   ],
   "id": "1c6211a7e71dd17b",
   "outputs": [],
   "execution_count": 86
  },
  {
   "metadata": {
    "ExecuteTime": {
     "end_time": "2025-06-29T01:24:23.922672Z",
     "start_time": "2025-06-29T01:24:23.913625Z"
    }
   },
   "cell_type": "code",
   "source": [
    "# 二、模型初始化：随机权重和偏置\n",
    "# size 张量的形状，std标准差；返回一个随机初始化的张量，且设置了requires_grad=True\n",
    "def init_params(size,std=1.0): return (torch.randn(size)*std).requires_grad_()\n",
    "weights = init_params((28*28,1))"
   ],
   "id": "f868667d3bede43e",
   "outputs": [],
   "execution_count": 126
  },
  {
   "metadata": {},
   "cell_type": "markdown",
   "source": "函数 weights*pixels 不能足够灵活。它始终=0，当元素值=0. 我们需要b。所以初始化1个随机数如下：",
   "id": "b712e1e06564eabe"
  },
  {
   "metadata": {
    "ExecuteTime": {
     "end_time": "2025-06-28T12:41:24.346716Z",
     "start_time": "2025-06-28T12:41:24.344139Z"
    }
   },
   "cell_type": "code",
   "source": "bias = init_params(1)",
   "id": "30a9299c1138881d",
   "outputs": [],
   "execution_count": 106
  },
  {
   "metadata": {},
   "cell_type": "markdown",
   "source": [
    "在神经网络中，w 叫做权重，b 叫做偏置\n",
    "\n",
    "术语：参数：模型的权重和偏置。The weights are the w in the equation w*x+b, and the biases are the b in that equation"
   ],
   "id": "f85a4e940b44439f"
  },
  {
   "metadata": {
    "ExecuteTime": {
     "end_time": "2025-06-28T12:43:08.328571Z",
     "start_time": "2025-06-28T12:43:08.325269Z"
    }
   },
   "cell_type": "code",
   "source": "(train_x[0]*weights.T).sum() + bias",
   "id": "ae46d3deb5eecaa3",
   "outputs": [
    {
     "data": {
      "text/plain": [
       "tensor([-6.0345], grad_fn=<AddBackward0>)"
      ]
     },
     "execution_count": 108,
     "metadata": {},
     "output_type": "execute_result"
    }
   ],
   "execution_count": 108
  },
  {
   "metadata": {},
   "cell_type": "markdown",
   "source": [
    "尽管我们能使用python 循环计算每个图片的预测值，但是会很慢。因为python don't run on GPU,而且在循环上是个慢的语言。我们需要使用高级函数\n",
    "这种情况，我们有一个很好的数学操作，矩阵乘法。"
   ],
   "id": "bcfd1dbabad55851"
  },
  {
   "metadata": {},
   "cell_type": "markdown",
   "source": "<img src=\"matrixMulti.png\" width=\"580\" height=\"auto\" alt=\"矩阵乘法\">",
   "id": "ea007d62920d4b9b"
  },
  {
   "metadata": {},
   "cell_type": "markdown",
   "source": "在python, 矩阵乘法通过 @ operator 来表示，让我们试下：",
   "id": "828cb8235265f2da"
  },
  {
   "metadata": {
    "ExecuteTime": {
     "end_time": "2025-06-28T12:44:28.546096Z",
     "start_time": "2025-06-28T12:44:28.536703Z"
    }
   },
   "cell_type": "code",
   "source": [
    "# 前向传播：计算预测值\n",
    "def linear1(xb): return xb@weights + bias   #矩阵乘法+偏置\n",
    "preds = linear1(train_x)    # 对所有训练样本计算预测值\n",
    "preds"
   ],
   "id": "ef270411dcbf3763",
   "outputs": [
    {
     "data": {
      "text/plain": [
       "tensor([[-6.0345],\n",
       "        [ 4.8424],\n",
       "        [-6.8445],\n",
       "        ...,\n",
       "        [-3.3534],\n",
       "        [ 6.5890],\n",
       "        [-5.6293]], grad_fn=<AddBackward0>)"
      ]
     },
     "execution_count": 110,
     "metadata": {},
     "output_type": "execute_result"
    }
   ],
   "execution_count": 110
  },
  {
   "metadata": {
    "ExecuteTime": {
     "end_time": "2025-06-28T09:46:26.459981Z",
     "start_time": "2025-06-28T09:46:26.457032Z"
    }
   },
   "cell_type": "code",
   "source": [
    "corrects = (preds>0.0).float() == train_y   # 将预测值与0比较，转为0/1标签并与真实标签比较\n",
    "corrects"
   ],
   "id": "f5e60a8a0b29bd40",
   "outputs": [
    {
     "data": {
      "text/plain": [
       "tensor([[False],\n",
       "        [False],\n",
       "        [False],\n",
       "        ...,\n",
       "        [ True],\n",
       "        [False],\n",
       "        [False]])"
      ]
     },
     "execution_count": 100,
     "metadata": {},
     "output_type": "execute_result"
    }
   ],
   "execution_count": 100
  },
  {
   "metadata": {
    "ExecuteTime": {
     "end_time": "2025-06-28T12:45:39.394845Z",
     "start_time": "2025-06-28T12:45:39.392486Z"
    }
   },
   "cell_type": "code",
   "source": "corrects.float().mean().item() #准确率",
   "id": "c1a1fdcb59f9957",
   "outputs": [
    {
     "data": {
      "text/plain": [
       "0.4500645399093628"
      ]
     },
     "execution_count": 111,
     "metadata": {},
     "output_type": "execute_result"
    }
   ],
   "execution_count": 111
  },
  {
   "metadata": {
    "ExecuteTime": {
     "end_time": "2025-06-28T12:46:17.661388Z",
     "start_time": "2025-06-28T12:46:17.656572Z"
    }
   },
   "cell_type": "code",
   "source": "with torch.no_grad(): weights[0] *=1.0001\n",
   "id": "8d5e80fa8d05d309",
   "outputs": [],
   "execution_count": 112
  },
  {
   "metadata": {
    "ExecuteTime": {
     "end_time": "2025-06-28T12:46:17.933214Z",
     "start_time": "2025-06-28T12:46:17.925522Z"
    }
   },
   "cell_type": "code",
   "source": [
    "preds = linear1(train_x)\n",
    "((preds>0.0).float() == train_y).float().mean().item()"
   ],
   "id": "e19d6885d6c8614b",
   "outputs": [
    {
     "data": {
      "text/plain": [
       "0.41174572706222534"
      ]
     },
     "execution_count": 113,
     "metadata": {},
     "output_type": "execute_result"
    }
   ],
   "execution_count": 113
  },
  {
   "metadata": {},
   "cell_type": "markdown",
   "source": [
    "‘我们原本计算预测与真实值之间的差值，当作损失函数。但是有时可能会失效，权重微小变化（x_new ≈ x_old）几乎不会改变预测类别，导致准确率差（y_new - y_old）≈ 0，梯度≈0。在数学上，数学上，准确率函数几乎处处不可导，导数多为 0（非阈值处）或无穷大（阈值处），无法指导权重更新。\n",
    "\n",
    "1.准确率的非平滑性：这时很难使用准确率更新梯度\n",
    "- 准确率仅在预测结果跨阈值（如 0.5）时才变化，否则保持恒定。例如：\n",
    "  - 预测值从 0.49（判为 7）变为 0.51（判为 3）时，准确率突增；\n",
    "  - 预测值在 0.49→0.50 时，准确率不变（仍判为 7）。\n",
    "\n",
    "五、核心结论\n",
    "\n",
    "准确率的局限性：离散化的评估指标无法直接作为损失函数，因其梯度几乎处处为 0，无法指导优化。\n",
    "替代方案方向：需使用连续可导的损失函数（如交叉熵、均方误差等），通过量化预测值与真实标签的 “距离”，为 SGD 提供有效的梯度信号。\n",
    "\n",
    "示例场景说明\n",
    "- 输入案例：\n",
    "  3 张图像的真实标签为 [3,7,3]，对应trgts = [1,0,1]；\n",
    "  模型预测为prds = [0.9, 0.4, 0.2]（第三个预测错误，将 3 判为 7）。\n",
    "- 损失函数作用：\n",
    "  需衡量prds与trgts的差异 —— 对于正确预测（0.9→1，0.4→0），损失应较低；对于错误预测（0.2→1），损失应较高，从而驱动模型调整权重。"
   ],
   "id": "cbc10360e8c2444c"
  },
  {
   "metadata": {},
   "cell_type": "markdown",
   "source": [
    "prds：模型预测值（0-1 之间），表示图像为 3 的概率（如 0.9 表示 “很可能是 3”）；\n",
    "trgts：真实标签（0 或 1），1 表示图像为 3，0 表示为 7。"
   ],
   "id": "4b9f2275f98ab692"
  },
  {
   "metadata": {
    "ExecuteTime": {
     "end_time": "2025-06-28T13:25:06.343530Z",
     "start_time": "2025-06-28T13:25:06.339519Z"
    }
   },
   "cell_type": "code",
   "source": [
    "trgts = tensor([1,0,1])\n",
    "prds = tensor([0.9,0.4,0.2])"
   ],
   "id": "974d30125bb7f04f",
   "outputs": [],
   "execution_count": 114
  },
  {
   "metadata": {
    "ExecuteTime": {
     "end_time": "2025-06-28T13:43:52.987539Z",
     "start_time": "2025-06-28T13:43:52.985628Z"
    }
   },
   "cell_type": "code",
   "source": [
    "def mnist_loss(predictions,targets):\n",
    "    return torch.where(targets==1, 1-predictions, predictions).mean()"
   ],
   "id": "adce18cbf5d32b94",
   "outputs": [],
   "execution_count": 115
  },
  {
   "metadata": {
    "ExecuteTime": {
     "end_time": "2025-06-28T13:50:42.766997Z",
     "start_time": "2025-06-28T13:50:42.759718Z"
    }
   },
   "cell_type": "code",
   "source": "torch.where(trgts==1, 1-prds, prds)",
   "id": "a3e1b4335396704e",
   "outputs": [
    {
     "data": {
      "text/plain": [
       "tensor([0.1000, 0.4000, 0.8000])"
      ]
     },
     "execution_count": 116,
     "metadata": {},
     "output_type": "execute_result"
    }
   ],
   "execution_count": 116
  },
  {
   "metadata": {
    "ExecuteTime": {
     "end_time": "2025-06-28T13:52:27.236167Z",
     "start_time": "2025-06-28T13:52:27.231603Z"
    }
   },
   "cell_type": "code",
   "source": "mnist_loss(prds,trgts)",
   "id": "72f899c9890d15fe",
   "outputs": [
    {
     "data": {
      "text/plain": [
       "tensor(0.4333)"
      ]
     },
     "execution_count": 117,
     "metadata": {},
     "output_type": "execute_result"
    }
   ],
   "execution_count": 117
  },
  {
   "metadata": {
    "ExecuteTime": {
     "end_time": "2025-06-28T13:53:10.282310Z",
     "start_time": "2025-06-28T13:53:10.279354Z"
    }
   },
   "cell_type": "code",
   "source": "mnist_loss(tensor([0.9,0.4,0.8]), trgts)",
   "id": "423e2cae542cac7f",
   "outputs": [
    {
     "data": {
      "text/plain": [
       "tensor(0.2333)"
      ]
     },
     "execution_count": 118,
     "metadata": {},
     "output_type": "execute_result"
    }
   ],
   "execution_count": 118
  },
  {
   "metadata": {},
   "cell_type": "markdown",
   "source": [
    "## Sigmoid\n",
    "sigmoid 函数输出始终在0-1之间"
   ],
   "id": "f61fd2703ba41486"
  },
  {
   "metadata": {},
   "cell_type": "markdown",
   "source": "sigmoid 有任何的输入，正数或负数，会平滑，输出数值0-1 之间同时也是一个上升的曲线",
   "id": "2f3ee151cf4cbfda"
  },
  {
   "metadata": {
    "ExecuteTime": {
     "end_time": "2025-06-29T00:29:02.928490Z",
     "start_time": "2025-06-29T00:29:02.919920Z"
    }
   },
   "cell_type": "code",
   "source": [
    "def sigmoid(x):\n",
    "    return 1/(1+torch.exp(-x))"
   ],
   "id": "c0fb2bc4342a2d8e",
   "outputs": [],
   "execution_count": 119
  },
  {
   "metadata": {
    "ExecuteTime": {
     "end_time": "2025-06-29T00:30:16.178183Z",
     "start_time": "2025-06-29T00:30:16.141370Z"
    }
   },
   "cell_type": "code",
   "source": "plot_function(torch.sigmoid,title='Sigmoid',min=-4,max=4)",
   "id": "1ba103869e83cfb4",
   "outputs": [
    {
     "data": {
      "text/plain": [
       "<Figure size 600x400 with 1 Axes>"
      ],
      "image/png": "[encoded data removed]"
     },
     "metadata": {},
     "output_type": "display_data"
    }
   ],
   "execution_count": 121
  },
  {
   "metadata": {
    "ExecuteTime": {
     "end_time": "2025-06-29T00:33:04.859794Z",
     "start_time": "2025-06-29T00:33:04.855Z"
    }
   },
   "cell_type": "code",
   "source": [
    "def mnist_loss(predictions,targets):\n",
    "    predictions = sigmoid(predictions)\n",
    "    return torch.where(targets==1, 1-predictions, predictions).mean()"
   ],
   "id": "e58eacad462240bf",
   "outputs": [],
   "execution_count": 122
  },
  {
   "metadata": {},
   "cell_type": "markdown",
   "source": [
    "| 维度   | 损失函数(Loss) | 评估指标(Metric)\n",
    "|------|------------| -----\n",
    "| 作用   | 驱动模型优化（自动化学习) | 衡量模型真实性能（辅助人工决策)\n",
    "| 数学特性 | 可导、平滑，对微小变化敏感           | 直观反应目标（如准确率、F1值）\n",
    "| 计算方式 | 每个样本单独计算后取平均（Epoch 内累加） | 整个数据集或批次上直接统计（如正确预测比例）\n",
    "| 关注阶段 | 训练过程中优化的目标 | 训练后评估模型的最终效果"
   ],
   "id": "49f2d4103798a0c5"
  },
  {
   "metadata": {},
   "cell_type": "markdown",
   "source": [
    "#### 损失函数与评估指标的区别\n",
    "损失函数是模型优化的 “引擎”，需满足数学可优化性；而评估指标是衡量模型价值的 “标尺”，反映真实业务目标。二者分离是深度学习的核心设计原则，理解这一差异对有效训练和评估模型至关重要。"
   ],
   "id": "800bcc80f1e68f70"
  },
  {
   "metadata": {},
   "cell_type": "markdown",
   "source": [
    "## SGD and Mini-Batches\n",
    "\n",
    "随机梯度下降中的小批量技术\n",
    "\n",
    "实际应用优势\n",
    "- 硬件加速适配：GPU 等加速器适合并行处理批量数据，小批量可充分利用其计算能力；但若批量过大，可能导致内存溢出。\n",
    "- 数据增强与泛化：每轮训练前随机打乱数据集生成小批量，增加数据随机性，提升模型泛化能力（类似数据增强策略）。"
   ],
   "id": "2456d42ff9fe335f"
  },
  {
   "metadata": {
    "ExecuteTime": {
     "end_time": "2025-06-29T01:08:27.886746Z",
     "start_time": "2025-06-29T01:08:27.866926Z"
    }
   },
   "cell_type": "code",
   "source": [
    "coll = range(15)\n",
    "dl = DataLoader(coll,batch_size=5,shuffle=True)\n",
    "list(dl)"
   ],
   "id": "8a0300c30d909109",
   "outputs": [
    {
     "data": {
      "text/plain": [
       "[tensor([ 3, 12,  8, 10,  2]),\n",
       " tensor([ 9,  4,  7, 14,  5]),\n",
       " tensor([ 1, 13,  0,  6, 11])]"
      ]
     },
     "execution_count": 123,
     "metadata": {},
     "output_type": "execute_result"
    }
   ],
   "execution_count": 123
  },
  {
   "metadata": {
    "ExecuteTime": {
     "end_time": "2025-06-29T01:12:10.120877Z",
     "start_time": "2025-06-29T01:12:10.116423Z"
    }
   },
   "cell_type": "code",
   "source": [
    "ds = L(enumerate(string.ascii_lowercase))\n",
    "ds"
   ],
   "id": "a1da41ca2ee2435",
   "outputs": [
    {
     "data": {
      "text/plain": [
       "(#26) [(0, 'a'),(1, 'b'),(2, 'c'),(3, 'd'),(4, 'e'),(5, 'f'),(6, 'g'),(7, 'h'),(8, 'i'),(9, 'j'),(10, 'k'),(11, 'l'),(12, 'm'),(13, 'n'),(14, 'o'),(15, 'p'),(16, 'q'),(17, 'r'),(18, 's'),(19, 't')...]"
      ]
     },
     "execution_count": 124,
     "metadata": {},
     "output_type": "execute_result"
    }
   ],
   "execution_count": 124
  },
  {
   "metadata": {},
   "cell_type": "markdown",
   "source": "当我们将数据集传递给 DataLoader 时，我们将返回小批量数据，这些小批量数据本身是张量的元组，代表独立变量和因变量的批量数据",
   "id": "8f1b32e015fa7359"
  },
  {
   "metadata": {
    "ExecuteTime": {
     "end_time": "2025-06-29T01:13:58.574147Z",
     "start_time": "2025-06-29T01:13:58.561665Z"
    }
   },
   "cell_type": "code",
   "source": [
    "dl = DataLoader(ds,batch_size=6,shuffle=True)\n",
    "list(dl)"
   ],
   "id": "c0c25839539911e4",
   "outputs": [
    {
     "data": {
      "text/plain": [
       "[(tensor([17, 18, 10, 22,  8, 14]), ('r', 's', 'k', 'w', 'i', 'o')),\n",
       " (tensor([20, 15,  9, 13, 21, 12]), ('u', 'p', 'j', 'n', 'v', 'm')),\n",
       " (tensor([ 7, 25,  6,  5, 11, 23]), ('h', 'z', 'g', 'f', 'l', 'x')),\n",
       " (tensor([ 1,  3,  0, 24, 19, 16]), ('b', 'd', 'a', 'y', 't', 'q')),\n",
       " (tensor([2, 4]), ('c', 'e'))]"
      ]
     },
     "execution_count": 125,
     "metadata": {},
     "output_type": "execute_result"
    }
   ],
   "execution_count": 125
  },
  {
   "metadata": {},
   "cell_type": "markdown",
   "source": "## Putting it all together",
   "id": "b6c57d4b977c6e44"
  },
  {
   "metadata": {},
   "cell_type": "markdown",
   "source": [
    "It's time to implement the process we saw in <<gradient_descent>>. In code, our process will be implemented something like this for each epoch:\n",
    "\n",
    "for x,y in dl:\n",
    "    pred = model(x)\n",
    "    loss = loss_func(pred, y)\n",
    "    loss.backward()\n",
    "    parameters -= parameters.grad * lr"
   ],
   "id": "d00833805e3b6e4b"
  },
  {
   "metadata": {
    "ExecuteTime": {
     "end_time": "2025-06-29T01:26:52.927845Z",
     "start_time": "2025-06-29T01:26:52.925040Z"
    }
   },
   "cell_type": "code",
   "source": [
    "# 重新初始化参数\n",
    "weights = init_params((28*28,1)) #返回的是一个形状为 (784, 1) 的张量，其中每个元素是服从正态分布的随机值，且该张量被标记为可自动求导\n",
    "bias = init_params(1) # 形状为 (1,) 的张量"
   ],
   "id": "32ec12c394a56105",
   "outputs": [],
   "execution_count": 127
  },
  {
   "metadata": {
    "ExecuteTime": {
     "end_time": "2025-06-29T01:27:56.742175Z",
     "start_time": "2025-06-29T01:27:56.733005Z"
    }
   },
   "cell_type": "code",
   "source": [
    "# 从数据集创建DataLoader\n",
    "dl = DataLoader(dset, batch_size=256)\n",
    "xb, yb = first(dl)\n",
    "xb.shape, yb.shape"
   ],
   "id": "6f2d32130cc35ab1",
   "outputs": [
    {
     "data": {
      "text/plain": [
       "(torch.Size([256, 784]), torch.Size([256, 1]))"
      ]
     },
     "execution_count": 128,
     "metadata": {},
     "output_type": "execute_result"
    }
   ],
   "execution_count": 128
  },
  {
   "metadata": {
    "ExecuteTime": {
     "end_time": "2025-06-29T01:30:32.107092Z",
     "start_time": "2025-06-29T01:30:32.102704Z"
    }
   },
   "cell_type": "code",
   "source": "valid_dl = DataLoader(valid_dset, batch_size=256)",
   "id": "c0916ccbecf74258",
   "outputs": [],
   "execution_count": 129
  },
  {
   "metadata": {
    "ExecuteTime": {
     "end_time": "2025-06-29T01:31:27.315399Z",
     "start_time": "2025-06-29T01:31:27.312660Z"
    }
   },
   "cell_type": "code",
   "source": [
    "# 创建一个 size 4的 最小批量\n",
    "batch = train_x[:4]\n",
    "batch.shape"
   ],
   "id": "ca643ff3af4d6d7b",
   "outputs": [
    {
     "data": {
      "text/plain": [
       "torch.Size([4, 784])"
      ]
     },
     "execution_count": 130,
     "metadata": {},
     "output_type": "execute_result"
    }
   ],
   "execution_count": 130
  },
  {
   "metadata": {
    "ExecuteTime": {
     "end_time": "2025-06-29T01:31:53.871742Z",
     "start_time": "2025-06-29T01:31:53.864238Z"
    }
   },
   "cell_type": "code",
   "source": [
    "preds = linear1(batch)\n",
    "preds"
   ],
   "id": "def3a9e5112e6ca3",
   "outputs": [
    {
     "data": {
      "text/plain": [
       "tensor([[18.9013],\n",
       "        [12.2656],\n",
       "        [10.8641],\n",
       "        [16.3815]], grad_fn=<AddBackward0>)"
      ]
     },
     "execution_count": 131,
     "metadata": {},
     "output_type": "execute_result"
    }
   ],
   "execution_count": 131
  },
  {
   "metadata": {
    "ExecuteTime": {
     "end_time": "2025-06-29T01:32:59.411437Z",
     "start_time": "2025-06-29T01:32:59.400002Z"
    }
   },
   "cell_type": "code",
   "source": [
    "loss = mnist_loss(preds,train_y[:4])\n",
    "loss"
   ],
   "id": "917a8537fce56b87",
   "outputs": [
    {
     "data": {
      "text/plain": [
       "tensor(5.9903e-06, grad_fn=<MeanBackward0>)"
      ]
     },
     "execution_count": 132,
     "metadata": {},
     "output_type": "execute_result"
    }
   ],
   "execution_count": 132
  },
  {
   "metadata": {
    "ExecuteTime": {
     "end_time": "2025-06-29T01:34:52.107238Z",
     "start_time": "2025-06-29T01:34:52.089531Z"
    }
   },
   "cell_type": "code",
   "source": [
    "# 计算gradients\n",
    "loss.backward()\n",
    "weights.grad.shape, weights.grad.mean(),bias.grad"
   ],
   "id": "397902b584ef2027",
   "outputs": [
    {
     "data": {
      "text/plain": [
       "(torch.Size([784, 1]), tensor(-8.5736e-07), tensor([-5.9816e-06]))"
      ]
     },
     "execution_count": 133,
     "metadata": {},
     "output_type": "execute_result"
    }
   ],
   "execution_count": 133
  },
  {
   "metadata": {},
   "cell_type": "markdown",
   "source": "Let's put that al in a function",
   "id": "946946124f1d8002"
  },
  {
   "metadata": {
    "ExecuteTime": {
     "end_time": "2025-06-29T01:36:50.680149Z",
     "start_time": "2025-06-29T01:36:50.678395Z"
    }
   },
   "cell_type": "code",
   "source": [
    "def calc_grad(xb,yb,model):\n",
    "    preds = model(xb)\n",
    "    loss=mnist_loss(preds,yb)\n",
    "    loss.backward()"
   ],
   "id": "d9cc43e441299da9",
   "outputs": [],
   "execution_count": 135
  },
  {
   "metadata": {
    "ExecuteTime": {
     "end_time": "2025-06-29T01:44:24.834906Z",
     "start_time": "2025-06-29T01:44:24.825611Z"
    }
   },
   "cell_type": "code",
   "source": [
    "# test it\n",
    "calc_grad(batch, train_y[:4], linear1)\n",
    "weights.grad.mean(), bias.grad"
   ],
   "id": "bd930b808aec5e6e",
   "outputs": [
    {
     "data": {
      "text/plain": [
       "(tensor(-1.7147e-06), tensor([-1.1963e-05]))"
      ]
     },
     "execution_count": 136,
     "metadata": {},
     "output_type": "execute_result"
    }
   ],
   "execution_count": 136
  },
  {
   "metadata": {
    "ExecuteTime": {
     "end_time": "2025-06-29T01:44:40.663818Z",
     "start_time": "2025-06-29T01:44:40.658888Z"
    }
   },
   "cell_type": "code",
   "source": [
    "calc_grad(batch, train_y[:4], linear1)\n",
    "weights.grad.mean(), bias.grad"
   ],
   "id": "438f153d8cd60b9b",
   "outputs": [
    {
     "data": {
      "text/plain": [
       "(tensor(-2.5721e-06), tensor([-1.7945e-05]))"
      ]
     },
     "execution_count": 137,
     "metadata": {},
     "output_type": "execute_result"
    }
   ],
   "execution_count": 137
  },
  {
   "metadata": {},
   "cell_type": "markdown",
   "source": [
    "调用两次\n",
    "梯度已经改变了！原因是 loss.backward 实际上把损失函数的梯度加到了当前存储的梯度上。所以，我们必须先把当前梯度设置为 0："
   ],
   "id": "aa256e405c8dd82e"
  },
  {
   "metadata": {
    "ExecuteTime": {
     "end_time": "2025-06-29T01:45:48.753987Z",
     "start_time": "2025-06-29T01:45:48.748976Z"
    }
   },
   "cell_type": "code",
   "source": [
    "weights.grad.zero_()\n",
    "bias.grad.zero_()"
   ],
   "id": "e914eda038424535",
   "outputs": [
    {
     "data": {
      "text/plain": [
       "tensor([0.])"
      ]
     },
     "execution_count": 138,
     "metadata": {},
     "output_type": "execute_result"
    }
   ],
   "execution_count": 138
  },
  {
   "metadata": {},
   "cell_type": "markdown",
   "source": "#### note: 就地操作：python中以下划线结尾的方法会就地修改其对象。例如，bias.zero_() 将张量 bias 的所有元素设置为0",
   "id": "632b8ee49a5f7a24"
  },
  {
   "metadata": {
    "ExecuteTime": {
     "end_time": "2025-06-29T01:52:00.275252Z",
     "start_time": "2025-06-29T01:52:00.270863Z"
    }
   },
   "cell_type": "code",
   "source": [
    "# 这一时期的基本训练循环\n",
    "def train_epoch(model, lr, params):\n",
    "    for xb, yb in dl:\n",
    "        calc_grad(xb,yb,model)\n",
    "        for p in params:\n",
    "            p.data -= p.grad * lr\n",
    "            p.data.zero_()"
   ],
   "id": "63990e125aab5b7f",
   "outputs": [],
   "execution_count": 139
  },
  {
   "metadata": {
    "ExecuteTime": {
     "end_time": "2025-06-29T02:07:59.488668Z",
     "start_time": "2025-06-29T02:07:59.481492Z"
    }
   },
   "cell_type": "code",
   "source": "(preds>0.0).float() == train_y[:4]",
   "id": "e8125afa8f59a4e5",
   "outputs": [
    {
     "data": {
      "text/plain": [
       "tensor([[True],\n",
       "        [True],\n",
       "        [True],\n",
       "        [True]])"
      ]
     },
     "execution_count": 140,
     "metadata": {},
     "output_type": "execute_result"
    }
   ],
   "execution_count": 140
  },
  {
   "metadata": {
    "ExecuteTime": {
     "end_time": "2025-06-29T02:09:37.294793Z",
     "start_time": "2025-06-29T02:09:37.293048Z"
    }
   },
   "cell_type": "code",
   "source": [
    "def batch_accuracy(xb,yb):\n",
    "    preds = xb.sigmoid()\n",
    "    correct = (preds>0.5) == yb\n",
    "    return correct.float().mean()"
   ],
   "id": "4fc9bbe9b9f24fe7",
   "outputs": [],
   "execution_count": 141
  },
  {
   "metadata": {
    "ExecuteTime": {
     "end_time": "2025-06-29T02:10:16.673726Z",
     "start_time": "2025-06-29T02:10:16.668587Z"
    }
   },
   "cell_type": "code",
   "source": "batch_accuracy(linear1(batch), train_y[:4])",
   "id": "63b6c10c33dda22d",
   "outputs": [
    {
     "data": {
      "text/plain": [
       "tensor(1.)"
      ]
     },
     "execution_count": 142,
     "metadata": {},
     "output_type": "execute_result"
    }
   ],
   "execution_count": 142
  },
  {
   "metadata": {
    "ExecuteTime": {
     "end_time": "2025-06-29T02:12:35.694156Z",
     "start_time": "2025-06-29T02:12:35.691859Z"
    }
   },
   "cell_type": "code",
   "source": [
    "def validate_epoch(model):\n",
    "    accs = [batch_accuracy(model(xb),yb) for xb,yb in valid_dl]\n",
    "    return round(torch.stack(accs).mean().item(),4)"
   ],
   "id": "8ec85ada8335c3b0",
   "outputs": [],
   "execution_count": 143
  },
  {
   "metadata": {
    "ExecuteTime": {
     "end_time": "2025-06-29T02:13:35.052694Z",
     "start_time": "2025-06-29T02:13:35.045031Z"
    }
   },
   "cell_type": "code",
   "source": "validate_epoch(linear1)",
   "id": "e2fa29b7fa518306",
   "outputs": [
    {
     "data": {
      "text/plain": [
       "0.5744"
      ]
     },
     "execution_count": 144,
     "metadata": {},
     "output_type": "execute_result"
    }
   ],
   "execution_count": 144
  },
  {
   "metadata": {
    "ExecuteTime": {
     "end_time": "2025-06-29T02:14:52.280372Z",
     "start_time": "2025-06-29T02:14:52.251538Z"
    }
   },
   "cell_type": "code",
   "source": [
    "# that's our standing point. Let's train for one epoch, and see if the accuracy improves:\n",
    "lr=1.\n",
    "params = weights, bias\n",
    "train_epoch(linear1, lr, params)\n",
    "validate_epoch(linear1)"
   ],
   "id": "2ba4f0291d0a44c5",
   "outputs": [
    {
     "data": {
      "text/plain": [
       "0.5068"
      ]
     },
     "execution_count": 145,
     "metadata": {},
     "output_type": "execute_result"
    }
   ],
   "execution_count": 145
  },
  {
   "metadata": {
    "ExecuteTime": {
     "end_time": "2025-06-29T02:15:26.101996Z",
     "start_time": "2025-06-29T02:15:25.865561Z"
    }
   },
   "cell_type": "code",
   "source": [
    "for i in range(20):\n",
    "    train_epoch(linear1, lr, params)\n",
    "    print(validate_epoch(linear1), end=' ')"
   ],
   "id": "20c939c05e8a3a11",
   "outputs": [
    {
     "name": "stdout",
     "output_type": "stream",
     "text": [
      "0.5068 0.5068 0.5068 0.5068 0.5068 0.5068 0.5068 0.5068 0.5068 0.5068 0.5068 0.5068 0.5068 0.5068 0.5068 0.5068 0.5068 0.5068 0.5068 0.5068 "
     ]
    }
   ],
   "execution_count": 146
  },
  {
   "metadata": {},
   "cell_type": "markdown",
   "source": "## Creating an Optimizer",
   "id": "1f1376d1b612f915"
  },
  {
   "metadata": {
    "ExecuteTime": {
     "end_time": "2025-06-29T02:28:13.145739Z",
     "start_time": "2025-06-29T02:28:13.139327Z"
    }
   },
   "cell_type": "code",
   "source": "linear_model = nn.Linear(28*28,1)",
   "id": "2eb1f185521b505e",
   "outputs": [],
   "execution_count": 147
  },
  {
   "metadata": {
    "ExecuteTime": {
     "end_time": "2025-06-29T02:28:48.331642Z",
     "start_time": "2025-06-29T02:28:48.329056Z"
    }
   },
   "cell_type": "code",
   "source": [
    "w,b=linear_model.parameters()\n",
    "w.shape, b.shape"
   ],
   "id": "f19142fd093fdfef",
   "outputs": [
    {
     "data": {
      "text/plain": [
       "(torch.Size([1, 784]), torch.Size([1]))"
      ]
     },
     "execution_count": 148,
     "metadata": {},
     "output_type": "execute_result"
    }
   ],
   "execution_count": 148
  },
  {
   "metadata": {
    "ExecuteTime": {
     "end_time": "2025-06-29T02:29:03.630368Z",
     "start_time": "2025-06-29T02:29:03.627288Z"
    }
   },
   "cell_type": "code",
   "source": [
    "class BasicOptim:\n",
    "    def __init__(self,params,lr): self.params,self.lr = list(params),lr\n",
    "\n",
    "    def step(self, *args, **kwargs):\n",
    "        for p in self.params: p.data -= p.grad.data * self.lr\n",
    "\n",
    "    def zero_grad(self, *args, **kwargs):\n",
    "        for p in self.params: p.grad = None"
   ],
   "id": "9ddd009627c85704",
   "outputs": [],
   "execution_count": 149
  },
  {
   "metadata": {
    "ExecuteTime": {
     "end_time": "2025-06-29T02:29:31.575202Z",
     "start_time": "2025-06-29T02:29:31.573444Z"
    }
   },
   "cell_type": "code",
   "source": "opt = BasicOptim(linear_model.parameters(), lr)",
   "id": "636f7cb6c1f90239",
   "outputs": [],
   "execution_count": 150
  },
  {
   "metadata": {
    "ExecuteTime": {
     "end_time": "2025-06-29T02:29:40.424736Z",
     "start_time": "2025-06-29T02:29:40.422642Z"
    }
   },
   "cell_type": "code",
   "source": [
    "def train_epoch(model):\n",
    "    for xb,yb in dl:\n",
    "        calc_grad(xb, yb, model)\n",
    "        opt.step()\n",
    "        opt.zero_grad()\n"
   ],
   "id": "788f240771709af6",
   "outputs": [],
   "execution_count": 151
  },
  {
   "metadata": {
    "ExecuteTime": {
     "end_time": "2025-06-29T02:29:46.591674Z",
     "start_time": "2025-06-29T02:29:46.581539Z"
    }
   },
   "cell_type": "code",
   "source": "validate_epoch(linear_model)",
   "id": "4c1efbb1395d6388",
   "outputs": [
    {
     "data": {
      "text/plain": [
       "0.6356"
      ]
     },
     "execution_count": 152,
     "metadata": {},
     "output_type": "execute_result"
    }
   ],
   "execution_count": 152
  },
  {
   "metadata": {
    "ExecuteTime": {
     "end_time": "2025-06-29T02:29:57.747428Z",
     "start_time": "2025-06-29T02:29:57.745099Z"
    }
   },
   "cell_type": "code",
   "source": [
    "def train_model(model, epochs):\n",
    "    for i in range(epochs):\n",
    "        train_epoch(model)\n",
    "        print(validate_epoch(model), end=' ')"
   ],
   "id": "30408319c4b0db3f",
   "outputs": [],
   "execution_count": 153
  },
  {
   "metadata": {
    "ExecuteTime": {
     "end_time": "2025-06-29T02:30:05.405516Z",
     "start_time": "2025-06-29T02:30:05.157961Z"
    }
   },
   "cell_type": "code",
   "source": "train_model(linear_model, 20)\n",
   "id": "12ed52e6e7a8362f",
   "outputs": [
    {
     "name": "stdout",
     "output_type": "stream",
     "text": [
      "0.4932 0.7847 0.8603 0.9184 0.936 0.9507 0.9575 0.9634 0.9663 0.9682 0.9692 0.9721 0.9736 0.9751 0.9761 0.9765 0.9775 0.978 0.9785 0.979 "
     ]
    }
   ],
   "execution_count": 154
  },
  {
   "metadata": {},
   "cell_type": "code",
   "outputs": [],
   "execution_count": null,
   "source": "",
   "id": "8f227b5a73e90197"
  }
 ],
 "metadata": {
  "kernelspec": {
   "display_name": "Python 3",
   "language": "python",
   "name": "python3"
  },
  "language_info": {
   "codemirror_mode": {
    "name": "ipython",
    "version": 2
   },
   "file_extension": ".py",
   "mimetype": "text/x-python",
   "name": "python",
   "nbconvert_exporter": "python",
   "pygments_lexer": "ipython2",
   "version": "2.7.6"
  }
 },
 "nbformat": 4,
 "nbformat_minor": 5
}
